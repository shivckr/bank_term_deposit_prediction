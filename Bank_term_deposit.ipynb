{
  "nbformat": 4,
  "nbformat_minor": 0,
  "metadata": {
    "colab": {
      "name": "Bank_term_deposit(Final).ipynb",
      "version": "0.3.2",
      "provenance": [],
      "collapsed_sections": [
        "UDSX4xzgk2EA",
        "llCU0I31k2Eq",
        "uUKi8KT1k2Hw",
        "9le0cp7Ck2Hz"
      ]
    },
    "kernelspec": {
      "name": "python3",
      "display_name": "Python 3"
    },
    "language_info": {
      "codemirror_mode": {
        "name": "ipython",
        "version": 3
      },
      "file_extension": ".py",
      "mimetype": "text/x-python",
      "name": "python",
      "nbconvert_exporter": "python",
      "pygments_lexer": "ipython3",
      "version": "3.6.3"
    },
    "accelerator": "GPU"
  },
  "cells": [
    {
      "cell_type": "markdown",
      "metadata": {
        "id": "9nHDcpiuk2CZ",
        "colab_type": "text"
      },
      "source": [
        "<img src=\"td.jpg\">"
      ]
    },
    {
      "cell_type": "markdown",
      "metadata": {
        "id": "aSG-__Zck2Ca",
        "colab_type": "text"
      },
      "source": [
        "## Table of Contents\n",
        "* [1. Problem Statement](#1.-Problem-Statement)  \n",
        "* [2. Objective](#2.-Objective) \n",
        "* [3. Import all scientific and visualization packages](#3.-Import-all-scientific-and-visualization-packages)\n",
        "* [4. Loading the datasets](#4.-Loading-the-datasets)\n",
        "    * [4.1 Understand datatypes present in dataframe](#4.1-Understand-datatypes-present-in-dataframe)\n",
        "* [5. Data Visualization](#5.-Data-Visualization)\n",
        "* [6.Prepare the data set](#6.Prepare the data set)\n",
        "    * [6.1 Handle imbalanced data using SMOTE](#6.1-Handle imbalanced data using SMOTE)\n",
        "    * [6.2 Train a Random Forest model before and after scaling the data set](#6.2-Train-a-Random Forest-model before and after scaling the data set)"
      ]
    },
    {
      "cell_type": "markdown",
      "metadata": {
        "id": "S5SCAqCtk2Ca",
        "colab_type": "text"
      },
      "source": [
        "### 1. Problem Statement"
      ]
    },
    {
      "cell_type": "markdown",
      "metadata": {
        "id": "c7-hXexmk2Cc",
        "colab_type": "text"
      },
      "source": [
        " #### The dataset has the following attributes:\n",
        "\n",
        "1 - age (numeric)\n",
        "\n",
        "2 - job : type of job (categorical: \"admin.\",\"unknown\",\"unemployed\",\"management\",\"housemaid\",\"entrepreneur\",\"student\",\n",
        "                                    \"blue-collar\",\"self-employed\",\"retired\",\"technician\",\"services\") \n",
        "\n",
        "3 - marital : marital status (categorical: \"married\",\"divorced\",\"single\"; note: \"divorced\" means divorced or widowed)\n",
        "\n",
        "4 - education (categorical: \"unknown\",\"secondary\",\"primary\",\"tertiary\")\n",
        "\n",
        "5 - default: has credit in default? (binary: \"yes\",\"no\")\n",
        "\n",
        "6 - balance: average yearly balance, in euros (numeric) \n",
        "\n",
        "7 - housing: has housing loan? (binary: \"yes\",\"no\")\n",
        "\n",
        "8 - loan: has personal loan? (binary: \"yes\",\"no\")\n",
        "\n",
        "9 - contact: contact communication type (categorical: \"unknown\",\"telephone\",\"cellular\") \n",
        "\n",
        "10 - day: last contact day of the month (numeric)\n",
        "\n",
        "11 - month: last contact month of year (categorical: \"jan\", \"feb\", \"mar\", ..., \"nov\", \"dec\")\n",
        "\n",
        "12 - duration: last contact duration, in seconds (numeric)\n",
        "\n",
        "13 - campaign: number of contacts performed during this campaign and for this client (numeric, includes last contact)\n",
        "\n",
        "14 - pdays: number of days that passed by after the client was last contacted from a previous campaign (numeric, -1 means client was not previously contacted)\n",
        "  \n",
        "15 - previous: number of contacts performed before this campaign and for this client (numeric)\n",
        "\n",
        "16 - poutcome: outcome of the previous marketing campaign (categorical: \"unknown\",\"other\",\"failure\",\"success\")\n",
        "\n",
        " Response Variable (desired target):__\n",
        "\n",
        "17 - y - has the client subscribed to a __term deposit?__ (binary: \"yes\",\"no\")"
      ]
    },
    {
      "cell_type": "markdown",
      "metadata": {
        "id": "6OXzCgM7k2Cd",
        "colab_type": "text"
      },
      "source": [
        "### 2. Objective"
      ]
    },
    {
      "cell_type": "markdown",
      "metadata": {
        "id": "CdJ-iSXgk2Cd",
        "colab_type": "text"
      },
      "source": [
        "The Objective of this analysis is to Predict who will do a Term Deposit in the Financial Institution"
      ]
    },
    {
      "cell_type": "markdown",
      "metadata": {
        "id": "XXqgS7Z_k2Ce",
        "colab_type": "text"
      },
      "source": [
        "### 3. Import all scientific and visualization packages"
      ]
    },
    {
      "cell_type": "code",
      "metadata": {
        "colab_type": "code",
        "id": "WuUER6Q3Dj9M",
        "colab": {}
      },
      "source": [
        "import pandas as pd                                                                                             # package to manipulate dataframe\n",
        "from sklearn.metrics import classification_report,confusion_matrix,accuracy_score,roc_curve,roc_auc_score       # Metrics to evaluate the model\n",
        "import seaborn as sns                                                                                           # Visualization package\n",
        "import matplotlib.pyplot as plt\n",
        "from sklearn.ensemble import RandomForestClassifier                                                             # Random Forest Classifier model\n",
        "from sklearn.svm import SVC                                                                                     # Support Vector Classifier model\n",
        "from sklearn.preprocessing import StandardScaler                                                                # For standardizing the dataset"
      ],
      "execution_count": 0,
      "outputs": []
    },
    {
      "cell_type": "markdown",
      "metadata": {
        "id": "W1RrfyiOk2Ci",
        "colab_type": "text"
      },
      "source": [
        "### 4. Loading the dataset"
      ]
    },
    {
      "cell_type": "code",
      "metadata": {
        "id": "QTf56rv7ipsG",
        "colab_type": "code",
        "colab": {}
      },
      "source": [
        "!wget https://raw.githubusercontent.com/UpXDataScience/FA-Bootcamp/master/Day3/Termdeposit.zip"
      ],
      "execution_count": 0,
      "outputs": []
    },
    {
      "cell_type": "code",
      "metadata": {
        "id": "AfI2rhRkcmWC",
        "colab_type": "code",
        "colab": {}
      },
      "source": [
        "!unzip Termdeposit.zip"
      ],
      "execution_count": 0,
      "outputs": []
    },
    {
      "cell_type": "code",
      "metadata": {
        "colab_type": "code",
        "id": "5Ed5rAafDj_4",
        "colab": {}
      },
      "source": [
        "df=pd.read_csv(\"Bank_Term_Deposit_Train.csv\")                                     # Read the dataframe"
      ],
      "execution_count": 0,
      "outputs": []
    },
    {
      "cell_type": "code",
      "metadata": {
        "colab_type": "code",
        "id": "Dd6yvhjosICl",
        "colab": {}
      },
      "source": [
        "pd.options.display.max_columns=None                                               # Allows us to view all the columns"
      ],
      "execution_count": 0,
      "outputs": []
    },
    {
      "cell_type": "code",
      "metadata": {
        "colab_type": "code",
        "id": "dgAHbObFDkCn",
        "colab": {}
      },
      "source": [
        "# Checking the first 5 rows of the dataframe\n",
        "\n",
        "df.head()"
      ],
      "execution_count": 0,
      "outputs": []
    },
    {
      "cell_type": "code",
      "metadata": {
        "colab_type": "code",
        "id": "3B8-3UwgDkE4",
        "colab": {}
      },
      "source": [
        "df.shape                                                                          # Checking the number of rows and columns"
      ],
      "execution_count": 0,
      "outputs": []
    },
    {
      "cell_type": "code",
      "metadata": {
        "id": "928QugCOk2Cv",
        "colab_type": "code",
        "colab": {}
      },
      "source": [
        "del df['Unnamed: 0']                                                            # Removing the first column\n",
        "#df.drop('Unnamed: 0', axis = 1, inplace=True)"
      ],
      "execution_count": 0,
      "outputs": []
    },
    {
      "cell_type": "markdown",
      "metadata": {
        "id": "eiq60u7Zk2Cy",
        "colab_type": "text"
      },
      "source": [
        "#### 4.1 Understand datatypes present in dataframe"
      ]
    },
    {
      "cell_type": "code",
      "metadata": {
        "colab_type": "code",
        "id": "eb_u4JTNDkHa",
        "colab": {}
      },
      "source": [
        "df.info()                                                                          # Checking the info, missing values and data types"
      ],
      "execution_count": 0,
      "outputs": []
    },
    {
      "cell_type": "code",
      "metadata": {
        "id": "vl_cR9P-k2C1",
        "colab_type": "code",
        "colab": {}
      },
      "source": [
        "df.isnull().sum()                                                                    # Checking the missing values"
      ],
      "execution_count": 0,
      "outputs": []
    },
    {
      "cell_type": "code",
      "metadata": {
        "id": "qS5FCiK2k2C4",
        "colab_type": "code",
        "colab": {}
      },
      "source": [
        "df.y.value_counts()                                                                 # Find the total number of observations across all the classes given in Output var"
      ],
      "execution_count": 0,
      "outputs": []
    },
    {
      "cell_type": "code",
      "metadata": {
        "id": "LD7kh34gk2C6",
        "colab_type": "code",
        "colab": {}
      },
      "source": [
        "df.describe()                                                                      # Checking the descriptive statistics"
      ],
      "execution_count": 0,
      "outputs": []
    },
    {
      "cell_type": "markdown",
      "metadata": {
        "id": "eIAHP5Ajk2C9",
        "colab_type": "text"
      },
      "source": [
        "### 5. Data Visualization"
      ]
    },
    {
      "cell_type": "code",
      "metadata": {
        "id": "zYN5nhfak2C9",
        "colab_type": "code",
        "colab": {}
      },
      "source": [
        "plt.figure(figsize=[10,4])                                      # Setting the size of the figure\n",
        "sns.barplot(y=df['balance'],x=df['y'],hue=df.education)         # Bar plot\n",
        "plt.xlabel(\"FD:yes/no\")                                         # Setting the label in x axis\n",
        "plt.show()                                                      # Displaying the plot"
      ],
      "execution_count": 0,
      "outputs": []
    },
    {
      "cell_type": "markdown",
      "metadata": {
        "id": "-mHyz2EZk2DA",
        "colab_type": "text"
      },
      "source": [
        "People who have term deposit have more balance in bank.  <br> \n",
        "This is because term deposit is a good investment scheme with high rate of interest.  <br>\n",
        "People who have term deposit are more educated."
      ]
    },
    {
      "cell_type": "code",
      "metadata": {
        "id": "rtnatzxIk2DB",
        "colab_type": "code",
        "colab": {}
      },
      "source": [
        "plt.figure(figsize=[10,4])                                        # Setting the size of the figure\n",
        "sns.barplot(y=df['age'],x=df['y'],hue=df.education)               # Bar plot\n",
        "plt.xlabel(\"FD:yes/no\")                                           # Setting the label in x axis\n",
        "plt.show()                                          "
      ],
      "execution_count": 0,
      "outputs": []
    },
    {
      "cell_type": "markdown",
      "metadata": {
        "id": "5eX2j31ck2DD",
        "colab_type": "text"
      },
      "source": [
        "People who have term deposit have more age.  <br>\n",
        "It can be deduced that aged people create term deposit to save their retirement benefit."
      ]
    },
    {
      "cell_type": "code",
      "metadata": {
        "id": "g9paxp3ek2DE",
        "colab_type": "code",
        "colab": {}
      },
      "source": [
        "plt.figure(figsize=[10,4])                                           # Setting the size of the figure\n",
        "sns.barplot(y=df['y'],x=df['balance'],hue=df.loan)                   # Bar plot\n",
        "plt.show()"
      ],
      "execution_count": 0,
      "outputs": []
    },
    {
      "cell_type": "markdown",
      "metadata": {
        "id": "LIZ8vU0pk2DH",
        "colab_type": "text"
      },
      "source": [
        "Those who have annual balance is close to 1500 euro and don't have loan are not doing Term Deposit. We should inspect more which factors are prohibiting them from doing a Term Deposit"
      ]
    },
    {
      "cell_type": "code",
      "metadata": {
        "id": "ZR4qX3k0k2DH",
        "colab_type": "code",
        "colab": {}
      },
      "source": [
        "plt.figure(figsize=[10,5])                                           # Setting the size of the figure\n",
        "sns.boxplot(x=df.y,y=df.balance,hue=df.loan)                         # Bar plot\n",
        "plt.show()"
      ],
      "execution_count": 0,
      "outputs": []
    },
    {
      "cell_type": "markdown",
      "metadata": {
        "id": "HVaoUcJrk2DL",
        "colab_type": "text"
      },
      "source": [
        "We find some outliers in Annual balance in those who are not doing TD and having no loan"
      ]
    },
    {
      "cell_type": "code",
      "metadata": {
        "id": "EoxKQ7WBk2DL",
        "colab_type": "code",
        "colab": {}
      },
      "source": [
        "df[df.loan=='no'][df.y=='no'][df.balance>=1000][df.marital=='single'].shape[0]     # 293 people having no loan,single and annual\n",
        "# greater than equal to 1000 are not doing Term Deposit."
      ],
      "execution_count": 0,
      "outputs": []
    },
    {
      "cell_type": "code",
      "metadata": {
        "id": "vvcecMVvk2DQ",
        "colab_type": "code",
        "colab": {}
      },
      "source": [
        "# Distribution plot of Age\n",
        "\n",
        "from matplotlib import style\n",
        "plt.figure(figsize=[10,5])\n",
        "style.use('ggplot')\n",
        "sns.distplot(df['age'])\n",
        "plt.show()"
      ],
      "execution_count": 0,
      "outputs": []
    },
    {
      "cell_type": "code",
      "metadata": {
        "id": "2Y4seemLk2DU",
        "colab_type": "code",
        "colab": {}
      },
      "source": [
        "# Distribution plot of balance\n",
        "\n",
        "from matplotlib import style\n",
        "plt.figure(figsize=[10,5])\n",
        "style.use('ggplot')\n",
        "sns.distplot(df['balance'])\n",
        "plt.show()"
      ],
      "execution_count": 0,
      "outputs": []
    },
    {
      "cell_type": "markdown",
      "metadata": {
        "id": "BlvRCugnk2DW",
        "colab_type": "text"
      },
      "source": [
        "Balance variable is highly skewed to the right. Max number of people having low annual balance"
      ]
    },
    {
      "cell_type": "markdown",
      "metadata": {
        "id": "yZAcA6tTk2DW",
        "colab_type": "text"
      },
      "source": [
        "###### Let's see how our Output variable looks like"
      ]
    },
    {
      "cell_type": "code",
      "metadata": {
        "id": "dKv7ku2Fk2DX",
        "colab_type": "code",
        "colab": {}
      },
      "source": [
        "df.y.value_counts()                                                                  # Checking the number of values for each class\n",
        "#df['y'].value_counts()\n",
        "#df.groupby(['job']).count() "
      ],
      "execution_count": 0,
      "outputs": []
    },
    {
      "cell_type": "code",
      "metadata": {
        "id": "J6Ky834sk2DZ",
        "colab_type": "code",
        "colab": {}
      },
      "source": [
        "no=df['y']=='no'#.size()\n",
        "no=no.sum()\n",
        "yes=df['y']=='yes'\n",
        "yes=yes.sum()"
      ],
      "execution_count": 0,
      "outputs": []
    },
    {
      "cell_type": "code",
      "metadata": {
        "id": "Z4y35k12k2Dc",
        "colab_type": "code",
        "colab": {}
      },
      "source": [
        "# Pie chart of both the classes\n",
        "\n",
        "plt.figure(figsize=[4,4])\n",
        "variables=['Yes','No']\n",
        "values=[yes,no]\n",
        "plt.pie(values,labels=variables,autopct='%1.1f%%', startangle=140)\n",
        "plt.show()"
      ],
      "execution_count": 0,
      "outputs": []
    },
    {
      "cell_type": "code",
      "metadata": {
        "colab_type": "code",
        "id": "sJDKPh46PcF7",
        "colab": {}
      },
      "source": [
        "# Creating the features and the labels\n",
        "\n",
        "y=df['y']\n",
        "X=df.drop(['y'],1)"
      ],
      "execution_count": 0,
      "outputs": []
    },
    {
      "cell_type": "code",
      "metadata": {
        "id": "3TEX2WeYk2Dg",
        "colab_type": "code",
        "colab": {}
      },
      "source": [
        "x=X.copy()"
      ],
      "execution_count": 0,
      "outputs": []
    },
    {
      "cell_type": "code",
      "metadata": {
        "id": "0q2lQ7pgk2Di",
        "colab_type": "code",
        "colab": {}
      },
      "source": [
        "df.shape                                         # Checking the number of rows and columns in the dataframe"
      ],
      "execution_count": 0,
      "outputs": []
    },
    {
      "cell_type": "code",
      "metadata": {
        "id": "_A6MflG4k2Dk",
        "colab_type": "code",
        "colab": {}
      },
      "source": [
        "# Getting the dummy values of job, marital, education, default, House, Loan, Contract, Month, poutcome\n",
        "\n",
        "job_dummies=pd.get_dummies(X['job'],prefix='Job',drop_first=True)\n",
        "marital_dummies=pd.get_dummies(X['marital'],prefix='Marital',drop_first=True)\n",
        "edu_dummies=pd.get_dummies(X['education'],prefix='Edu',drop_first=True)\n",
        "default_dummies=pd.get_dummies(X['default'],prefix='Default',drop_first=True)\n",
        "housing_dummies=pd.get_dummies(X['housing'],prefix='House',drop_first=True)\n",
        "loan_dummies=pd.get_dummies(X['loan'],prefix='Loan',drop_first=True)\n",
        "contact_dummies=pd.get_dummies(X['contact'],prefix='Contact',drop_first=True)\n",
        "month_dummies=pd.get_dummies(X['month'],prefix='Month',drop_first=True)\n",
        "poutcome_dummies=pd.get_dummies(X['poutcome'],prefix='poutcome',drop_first=True)"
      ],
      "execution_count": 0,
      "outputs": []
    },
    {
      "cell_type": "code",
      "metadata": {
        "id": "Y5283CBKk2Dn",
        "colab_type": "code",
        "colab": {}
      },
      "source": [
        "# Merge all the dummified categorical columns\n",
        "\n",
        "X=pd.concat([X,job_dummies,marital_dummies,edu_dummies,default_dummies,housing_dummies,loan_dummies,contact_dummies,month_dummies,poutcome_dummies],1)"
      ],
      "execution_count": 0,
      "outputs": []
    },
    {
      "cell_type": "code",
      "metadata": {
        "colab_type": "code",
        "id": "mTVCV69IPcCx",
        "colab": {}
      },
      "source": [
        "# Removing the non-dummified categorical columns\n",
        "\n",
        "X=X.drop(['job','marital','education','default','housing','loan','month','poutcome','contact'],axis=1)\n",
        "X.shape"
      ],
      "execution_count": 0,
      "outputs": []
    },
    {
      "cell_type": "markdown",
      "metadata": {
        "id": "mD1tPaG1k2Dt",
        "colab_type": "text"
      },
      "source": [
        "#### Checking the shape of input and output variables"
      ]
    },
    {
      "cell_type": "code",
      "metadata": {
        "id": "orAOJN6Bk2Dt",
        "colab_type": "code",
        "colab": {}
      },
      "source": [
        "y.shape"
      ],
      "execution_count": 0,
      "outputs": []
    },
    {
      "cell_type": "code",
      "metadata": {
        "id": "tXb82Jb7k2Dv",
        "colab_type": "code",
        "colab": {}
      },
      "source": [
        "X.shape"
      ],
      "execution_count": 0,
      "outputs": []
    },
    {
      "cell_type": "markdown",
      "metadata": {
        "id": "Jq3PNVqRk2Dx",
        "colab_type": "text"
      },
      "source": [
        "### Convert response variable into numeric one"
      ]
    },
    {
      "cell_type": "code",
      "metadata": {
        "id": "0OYIhTWCk2Dy",
        "colab_type": "code",
        "colab": {}
      },
      "source": [
        "# Label Encoding the y variable\n",
        "\n",
        "from sklearn.preprocessing import LabelEncoder\n",
        "le=LabelEncoder()"
      ],
      "execution_count": 0,
      "outputs": []
    },
    {
      "cell_type": "code",
      "metadata": {
        "id": "PU2z1meFk2D7",
        "colab_type": "code",
        "colab": {}
      },
      "source": [
        "y=le.fit_transform(y)"
      ],
      "execution_count": 0,
      "outputs": []
    },
    {
      "cell_type": "code",
      "metadata": {
        "id": "SYg3rybdk2D9",
        "colab_type": "code",
        "colab": {}
      },
      "source": [
        "pd.crosstab(y,'Count')                            # This shows that the dataset is imbalanced and we need to perform SMOTE"
      ],
      "execution_count": 0,
      "outputs": []
    },
    {
      "cell_type": "code",
      "metadata": {
        "colab_type": "code",
        "id": "GYzxGMzAPcH_",
        "colab": {}
      },
      "source": [
        "X.head()"
      ],
      "execution_count": 0,
      "outputs": []
    },
    {
      "cell_type": "markdown",
      "metadata": {
        "id": "UDSX4xzgk2EA",
        "colab_type": "text"
      },
      "source": [
        "#### 6.1 Handle imbalanced data using SMOTE"
      ]
    },
    {
      "cell_type": "markdown",
      "metadata": {
        "id": "sXMklv_Zk2EB",
        "colab_type": "text"
      },
      "source": [
        "#### Please install imblearn to balance the imbalanced data set"
      ]
    },
    {
      "cell_type": "code",
      "metadata": {
        "colab_type": "code",
        "id": "zKvZsCUgi96L",
        "colab": {}
      },
      "source": [
        "#!pip install imblearn"
      ],
      "execution_count": 0,
      "outputs": []
    },
    {
      "cell_type": "markdown",
      "metadata": {
        "id": "JQ9y3fR3k2EE",
        "colab_type": "text"
      },
      "source": [
        "#### SMOTE is done for imbalanced data set.\n",
        "We'll do over-sampling thus we can increase the number of instances while balancing the dataset"
      ]
    },
    {
      "cell_type": "code",
      "metadata": {
        "colab_type": "code",
        "id": "BqVK90wZj5EQ",
        "colab": {}
      },
      "source": [
        "from imblearn.over_sampling import SMOTE\n",
        "smote=SMOTE(ratio='minority')\n",
        "x_sm,y_sm=smote.fit_sample(X,y)"
      ],
      "execution_count": 0,
      "outputs": []
    },
    {
      "cell_type": "code",
      "metadata": {
        "id": "aO-hg515k2EG",
        "colab_type": "code",
        "colab": {}
      },
      "source": [
        "print(x_sm.shape)\n",
        "print(y_sm.shape)"
      ],
      "execution_count": 0,
      "outputs": []
    },
    {
      "cell_type": "code",
      "metadata": {
        "colab_type": "code",
        "id": "VGzRdcXUPcKZ",
        "colab": {}
      },
      "source": [
        "# Splitting the data into train and test set and checking their shape\n",
        "\n",
        "from sklearn.model_selection import train_test_split\n",
        "x_train,x_test,y_train,y_test=train_test_split(x_sm,y_sm,test_size=0.20,random_state=12)\n",
        "print(x_train.shape)\n",
        "print(x_test.shape)\n",
        "print(y_train.shape)\n",
        "print(y_test.shape)"
      ],
      "execution_count": 0,
      "outputs": []
    },
    {
      "cell_type": "code",
      "metadata": {
        "id": "53GS6DeWk2EL",
        "colab_type": "code",
        "colab": {}
      },
      "source": [
        "pd.Series(y_sm).value_counts()                                                    # After SMOTE the classes are balanced"
      ],
      "execution_count": 0,
      "outputs": []
    },
    {
      "cell_type": "code",
      "metadata": {
        "id": "7pOt3GTck2EN",
        "colab_type": "code",
        "colab": {}
      },
      "source": [
        "pd.Series(y_test).value_counts()"
      ],
      "execution_count": 0,
      "outputs": []
    },
    {
      "cell_type": "code",
      "metadata": {
        "id": "o3OJUYkQk2EP",
        "colab_type": "code",
        "colab": {}
      },
      "source": [
        "!pip install lightgbm                                                               # Installing LightGBM classifier"
      ],
      "execution_count": 0,
      "outputs": []
    },
    {
      "cell_type": "code",
      "metadata": {
        "id": "dIzJhplZk2ER",
        "colab_type": "code",
        "colab": {}
      },
      "source": [
        "import lightgbm as lgb"
      ],
      "execution_count": 0,
      "outputs": []
    },
    {
      "cell_type": "code",
      "metadata": {
        "id": "0MD_qeO3k2EU",
        "colab_type": "code",
        "colab": {}
      },
      "source": [
        "train_data = lgb.Dataset(x_train, label=y_train)\n",
        "params = {}\n",
        "params['learning_rate'] = 0.003                      # Learning rate \n",
        "params['boosting_type'] = 'gbdt'                     # Gradient Boosting Decision Tree\n",
        "params['objective'] = 'binary'                       # Classify into binary classes\n",
        "params['metric'] = 'binary_logloss'                  # metric is binary logloss\n",
        "params['sub_feature'] = 0.5\n",
        "params['num_leaves'] = 15                            # number of leaves in a full tree\n",
        "params['min_data'] = 50                              # minimum number of data in the last leaf \n",
        "params['max_depth'] = 10                             # depth of tree\n",
        "clf = lgb.train(params, train_data, 100)             # Train the model for 100 iteration"
      ],
      "execution_count": 0,
      "outputs": []
    },
    {
      "cell_type": "markdown",
      "metadata": {
        "id": "oi5SDfBak2EW",
        "colab_type": "text"
      },
      "source": [
        "#### Prediction  train data"
      ]
    },
    {
      "cell_type": "code",
      "metadata": {
        "id": "wpM315ltk2EX",
        "colab_type": "code",
        "colab": {}
      },
      "source": [
        "train_pred = clf.predict(x_train)"
      ],
      "execution_count": 0,
      "outputs": []
    },
    {
      "cell_type": "markdown",
      "metadata": {
        "id": "R5MahaSGk2EY",
        "colab_type": "text"
      },
      "source": [
        "#### Prediction on test data"
      ]
    },
    {
      "cell_type": "code",
      "metadata": {
        "id": "gfid7VEXk2EZ",
        "colab_type": "code",
        "colab": {}
      },
      "source": [
        "lightgbm_pred=clf.predict(x_test)"
      ],
      "execution_count": 0,
      "outputs": []
    },
    {
      "cell_type": "code",
      "metadata": {
        "id": "BMDd3ldAk2Ea",
        "colab_type": "code",
        "colab": {}
      },
      "source": [
        "\n",
        "#convert into binary values\n",
        "for i in range(0,6246):         # 6246 is the number of records\n",
        "    if train_pred[i]>=.5:       # setting threshold to .5\n",
        "       train_pred[i]=1\n",
        "    else:  \n",
        "       train_pred[i]=0"
      ],
      "execution_count": 0,
      "outputs": []
    },
    {
      "cell_type": "markdown",
      "metadata": {
        "id": "cKYz6ZyHk2Ec",
        "colab_type": "text"
      },
      "source": [
        "#### Train performance"
      ]
    },
    {
      "cell_type": "code",
      "metadata": {
        "id": "SwHfUK0Yk2Ed",
        "colab_type": "code",
        "colab": {}
      },
      "source": [
        "print(accuracy_score(y_train, train_pred))            # Accuracy of the model"
      ],
      "execution_count": 0,
      "outputs": []
    },
    {
      "cell_type": "code",
      "metadata": {
        "id": "ucluJwIak2Ee",
        "colab_type": "code",
        "outputId": "37410834-54d8-4418-a371-97029eb0d136",
        "colab": {
          "base_uri": "https://localhost:8080/",
          "height": 170
        }
      },
      "source": [
        "print(classification_report(y_train, train_pred))     "
      ],
      "execution_count": 0,
      "outputs": [
        {
          "output_type": "stream",
          "text": [
            "              precision    recall  f1-score   support\n",
            "\n",
            "           0       0.90      0.92      0.91      3151\n",
            "           1       0.91      0.90      0.91      3095\n",
            "\n",
            "    accuracy                           0.91      6246\n",
            "   macro avg       0.91      0.91      0.91      6246\n",
            "weighted avg       0.91      0.91      0.91      6246\n",
            "\n"
          ],
          "name": "stdout"
        }
      ]
    },
    {
      "cell_type": "markdown",
      "metadata": {
        "id": "7kYBbvtIk2Eg",
        "colab_type": "text"
      },
      "source": [
        "#### Validation performance"
      ]
    },
    {
      "cell_type": "code",
      "metadata": {
        "id": "d3EsOFUpk2Eh",
        "colab_type": "code",
        "colab": {}
      },
      "source": [
        "y_pred=clf.predict(x_test)\n",
        "#convert into binary values\n",
        "for i in range(0,1562):\n",
        "    if y_pred[i]>=.5:       # setting threshold to .5\n",
        "       y_pred[i]=1\n",
        "    else:  \n",
        "       y_pred[i]=0"
      ],
      "execution_count": 0,
      "outputs": []
    },
    {
      "cell_type": "code",
      "metadata": {
        "id": "WD8uHKdDk2Ei",
        "colab_type": "code",
        "colab": {}
      },
      "source": [
        "y_pred"
      ],
      "execution_count": 0,
      "outputs": []
    },
    {
      "cell_type": "code",
      "metadata": {
        "id": "H3x3a6bok2Em",
        "colab_type": "code",
        "colab": {}
      },
      "source": [
        "# Checking all the metrics for the Test data\n",
        "\n",
        "print(confusion_matrix(y_test, y_pred))                                # Print confusion matrix\n",
        "\n",
        "from sklearn.metrics import accuracy_score\n",
        "accuracy=accuracy_score(y_pred,y_test)\n",
        "\n",
        "print('accuracy_score \\n',accuracy_score(y_test,y_pred))\n",
        "\n",
        "print('classification_report \\n',classification_report(y_test,y_pred))"
      ],
      "execution_count": 0,
      "outputs": []
    },
    {
      "cell_type": "code",
      "metadata": {
        "id": "dilYsMtqk2En",
        "colab_type": "code",
        "colab": {}
      },
      "source": [
        "from sklearn.metrics import recall_score\n",
        "recall_score(y_test, y_pred)"
      ],
      "execution_count": 0,
      "outputs": []
    },
    {
      "cell_type": "markdown",
      "metadata": {
        "id": "m6IrJmeak2Ep",
        "colab_type": "text"
      },
      "source": [
        "### Prediction for upcoming four days"
      ]
    },
    {
      "cell_type": "markdown",
      "metadata": {
        "id": "llCU0I31k2Eq",
        "colab_type": "text"
      },
      "source": [
        "#### Day 1 prediction"
      ]
    },
    {
      "cell_type": "markdown",
      "metadata": {
        "id": "4cyMr-G6k2Eq",
        "colab_type": "text"
      },
      "source": [
        "#### Import Day 1 data"
      ]
    },
    {
      "cell_type": "markdown",
      "metadata": {
        "id": "cn-9DM-qk2Es",
        "colab_type": "text"
      },
      "source": [
        "We have received Day1 data(Input)\n",
        "\n",
        "\n",
        "Import day1_input"
      ]
    },
    {
      "cell_type": "code",
      "metadata": {
        "id": "iLuUA37tk2Es",
        "colab_type": "code",
        "colab": {}
      },
      "source": [
        "day1_input_df=pd.read_csv('Day1_input.xls')"
      ],
      "execution_count": 0,
      "outputs": []
    },
    {
      "cell_type": "code",
      "metadata": {
        "id": "e7fxVHT5y72E",
        "colab_type": "code",
        "outputId": "d80a1d6c-1ae8-4e22-b9d1-1e120d730918",
        "colab": {
          "base_uri": "https://localhost:8080/",
          "height": 34
        }
      },
      "source": [
        "day1_input_df.shape            # Rows and columns"
      ],
      "execution_count": 0,
      "outputs": [
        {
          "output_type": "execute_result",
          "data": {
            "text/plain": [
              "(27, 16)"
            ]
          },
          "metadata": {
            "tags": []
          },
          "execution_count": 60
        }
      ]
    },
    {
      "cell_type": "code",
      "metadata": {
        "id": "zcsKrcehk2Eu",
        "colab_type": "code",
        "colab": {}
      },
      "source": [
        "day1_input_df.tail()           # Check the last 5 rows"
      ],
      "execution_count": 0,
      "outputs": []
    },
    {
      "cell_type": "markdown",
      "metadata": {
        "id": "LlHu9XvIylHU",
        "colab_type": "text"
      },
      "source": [
        "#### Feature Engineering the data from Day 1"
      ]
    },
    {
      "cell_type": "code",
      "metadata": {
        "id": "PTxOwnGtk2Ew",
        "colab_type": "code",
        "colab": {}
      },
      "source": [
        "new_input_features=x.append(day1_input_df)    # Add the last 5 days to train data"
      ],
      "execution_count": 0,
      "outputs": []
    },
    {
      "cell_type": "code",
      "metadata": {
        "id": "dtOJeD4_k2Ey",
        "colab_type": "code",
        "colab": {}
      },
      "source": [
        "new_input_features.tail()                     # Check the last 5 rows"
      ],
      "execution_count": 0,
      "outputs": []
    },
    {
      "cell_type": "code",
      "metadata": {
        "id": "62KXuhWlk2E0",
        "colab_type": "code",
        "colab": {}
      },
      "source": [
        "# Dummify categorical features \n",
        "\n",
        "job_dummies1=pd.get_dummies(new_input_features['job'],prefix='Job',drop_first=True)\n",
        "marital_dummies1=pd.get_dummies(new_input_features['marital'],prefix='Marital',drop_first=True)\n",
        "edu_dummies1=pd.get_dummies(new_input_features['education'],prefix='Edu',drop_first=True)\n",
        "default_dummies1=pd.get_dummies(new_input_features['default'],prefix='Default',drop_first=True)\n",
        "housing_dummies1=pd.get_dummies(new_input_features['housing'],prefix='House',drop_first=True)\n",
        "loan_dummies1=pd.get_dummies(new_input_features['loan'],prefix='Loan',drop_first=True)\n",
        "contact_dummies1=pd.get_dummies(new_input_features['contact'],prefix='Contact',drop_first=True)\n",
        "month_dummies1=pd.get_dummies(new_input_features['month'],prefix='Month',drop_first=True)\n",
        "poutcome_dummies1=pd.get_dummies(new_input_features['poutcome'],prefix='poutcome',drop_first=True)"
      ],
      "execution_count": 0,
      "outputs": []
    },
    {
      "cell_type": "code",
      "metadata": {
        "id": "aSIx2mh6k2E2",
        "colab_type": "code",
        "colab": {}
      },
      "source": [
        "new_input_features=pd.concat([new_input_features,job_dummies1,marital_dummies1,edu_dummies1,default_dummies1,housing_dummies1,loan_dummies1,contact_dummies1,month_dummies1,poutcome_dummies1],1)"
      ],
      "execution_count": 0,
      "outputs": []
    },
    {
      "cell_type": "code",
      "metadata": {
        "id": "rUYmt-40k2E3",
        "colab_type": "code",
        "colab": {}
      },
      "source": [
        "new_input_features=new_input_features.drop(['job','marital','education','default','housing','loan','month','poutcome','contact'],axis=1)"
      ],
      "execution_count": 0,
      "outputs": []
    },
    {
      "cell_type": "code",
      "metadata": {
        "id": "egPmQmKMk2E7",
        "colab_type": "code",
        "colab": {}
      },
      "source": [
        "new_input_features.shape"
      ],
      "execution_count": 0,
      "outputs": []
    },
    {
      "cell_type": "code",
      "metadata": {
        "id": "VOGDxI0qk2E9",
        "colab_type": "code",
        "colab": {}
      },
      "source": [
        "# Removing the last 27 rows from the Day 1 data\n",
        "\n",
        "onehot_encoded_new_input_features_day1=new_input_features.iloc[-27:,:]"
      ],
      "execution_count": 0,
      "outputs": []
    },
    {
      "cell_type": "code",
      "metadata": {
        "id": "-W948ghgk2E-",
        "colab_type": "code",
        "outputId": "734c9204-c63a-4d16-82b5-581d046af289",
        "colab": {
          "base_uri": "https://localhost:8080/",
          "height": 34
        }
      },
      "source": [
        "onehot_encoded_new_input_features_day1.shape"
      ],
      "execution_count": 0,
      "outputs": [
        {
          "output_type": "execute_result",
          "data": {
            "text/plain": [
              "(27, 42)"
            ]
          },
          "metadata": {
            "tags": []
          },
          "execution_count": 161
        }
      ]
    },
    {
      "cell_type": "markdown",
      "metadata": {
        "id": "y_wRt9L7k2FA",
        "colab_type": "text"
      },
      "source": [
        "#### Predicting day1 data"
      ]
    },
    {
      "cell_type": "code",
      "metadata": {
        "id": "jEcAogUQk2FA",
        "colab_type": "code",
        "colab": {}
      },
      "source": [
        "day1_pred=clf.predict(onehot_encoded_new_input_features_day1)"
      ],
      "execution_count": 0,
      "outputs": []
    },
    {
      "cell_type": "code",
      "metadata": {
        "id": "Lf5WlKJRk2FB",
        "colab_type": "code",
        "colab": {}
      },
      "source": [
        "for i in range(0,27):\n",
        "    if day1_pred[i]>=.5:       # setting threshold to .5\n",
        "       day1_pred[i]=1\n",
        "    else:  \n",
        "       day1_pred[i]=0"
      ],
      "execution_count": 0,
      "outputs": []
    },
    {
      "cell_type": "markdown",
      "metadata": {
        "id": "4SEWSF16k2FD",
        "colab_type": "text"
      },
      "source": [
        "We have received actual what happend on day1(Actual day1_output)"
      ]
    },
    {
      "cell_type": "code",
      "metadata": {
        "id": "ngUoDz0rk2FD",
        "colab_type": "code",
        "colab": {}
      },
      "source": [
        "day1_actual_output=pd.read_csv('Day1_Actual_output.xls')"
      ],
      "execution_count": 0,
      "outputs": []
    },
    {
      "cell_type": "code",
      "metadata": {
        "id": "4Kw-0pkEk2FF",
        "colab_type": "code",
        "outputId": "43fb5738-bbad-4dac-a81c-6ce1da6440f8",
        "colab": {
          "base_uri": "https://localhost:8080/",
          "height": 71
        }
      },
      "source": [
        "day1_actual_output=le.fit_transform(day1_actual_output)"
      ],
      "execution_count": 0,
      "outputs": [
        {
          "output_type": "stream",
          "text": [
            "/usr/local/lib/python3.6/dist-packages/sklearn/preprocessing/label.py:235: DataConversionWarning: A column-vector y was passed when a 1d array was expected. Please change the shape of y to (n_samples, ), for example using ravel().\n",
            "  y = column_or_1d(y, warn=True)\n"
          ],
          "name": "stderr"
        }
      ]
    },
    {
      "cell_type": "code",
      "metadata": {
        "id": "DLmGTqd8k2FH",
        "colab_type": "code",
        "outputId": "699d5075-8ff1-4bd4-e515-2a2ceb945242",
        "colab": {
          "base_uri": "https://localhost:8080/",
          "height": 170
        }
      },
      "source": [
        "print(classification_report(day1_actual_output,day1_pred))"
      ],
      "execution_count": 0,
      "outputs": [
        {
          "output_type": "stream",
          "text": [
            "              precision    recall  f1-score   support\n",
            "\n",
            "           0       1.00      0.79      0.88        24\n",
            "           1       0.38      1.00      0.55         3\n",
            "\n",
            "    accuracy                           0.81        27\n",
            "   macro avg       0.69      0.90      0.71        27\n",
            "weighted avg       0.93      0.81      0.85        27\n",
            "\n"
          ],
          "name": "stdout"
        }
      ]
    },
    {
      "cell_type": "code",
      "metadata": {
        "id": "uxErVmr6k2FJ",
        "colab_type": "code",
        "outputId": "d0650b5e-114e-499b-95ce-8c5c72aa58aa",
        "colab": {
          "base_uri": "https://localhost:8080/",
          "height": 52
        }
      },
      "source": [
        "print(confusion_matrix(day1_actual_output,day1_pred))"
      ],
      "execution_count": 0,
      "outputs": [
        {
          "output_type": "stream",
          "text": [
            "[[19  5]\n",
            " [ 0  3]]\n"
          ],
          "name": "stdout"
        }
      ]
    },
    {
      "cell_type": "code",
      "metadata": {
        "id": "htXko6kJk2FM",
        "colab_type": "code",
        "outputId": "67f55f54-aef7-486c-a715-e8ffd4613203",
        "colab": {
          "base_uri": "https://localhost:8080/",
          "height": 34
        }
      },
      "source": [
        "day1_recall=recall_score(day1_actual_output,day1_pred)\n",
        "day1_recall"
      ],
      "execution_count": 0,
      "outputs": [
        {
          "output_type": "execute_result",
          "data": {
            "text/plain": [
              "1.0"
            ]
          },
          "metadata": {
            "tags": []
          },
          "execution_count": 162
        }
      ]
    },
    {
      "cell_type": "markdown",
      "metadata": {
        "id": "yHKq33i_k2FO",
        "colab_type": "text"
      },
      "source": [
        "#### Data of Day 2 prediction"
      ]
    },
    {
      "cell_type": "markdown",
      "metadata": {
        "id": "XAZvmQijk2FO",
        "colab_type": "text"
      },
      "source": [
        "We have received Day2 data(Input)\n",
        "\n",
        "\n",
        "Import day2_input"
      ]
    },
    {
      "cell_type": "code",
      "metadata": {
        "id": "w3DyGB2Rk2FO",
        "colab_type": "code",
        "colab": {}
      },
      "source": [
        "day2_input_df=pd.read_csv('Day2_input.xls')"
      ],
      "execution_count": 0,
      "outputs": []
    },
    {
      "cell_type": "code",
      "metadata": {
        "id": "5tgVooESk2FQ",
        "colab_type": "code",
        "colab": {}
      },
      "source": [
        "day2_input_df.tail()"
      ],
      "execution_count": 0,
      "outputs": []
    },
    {
      "cell_type": "code",
      "metadata": {
        "id": "3YsLyCpgk2FS",
        "colab_type": "code",
        "outputId": "85dcbbc7-0589-43e1-a2a1-33b781a0fd65",
        "colab": {
          "base_uri": "https://localhost:8080/",
          "height": 34
        }
      },
      "source": [
        "day2_input_df.shape"
      ],
      "execution_count": 0,
      "outputs": [
        {
          "output_type": "execute_result",
          "data": {
            "text/plain": [
              "(27, 16)"
            ]
          },
          "metadata": {
            "tags": []
          },
          "execution_count": 82
        }
      ]
    },
    {
      "cell_type": "markdown",
      "metadata": {
        "id": "wQy2GENa17qW",
        "colab_type": "text"
      },
      "source": [
        "#### Feature Engineering for Day 2"
      ]
    },
    {
      "cell_type": "code",
      "metadata": {
        "id": "LvxeKJa4k2FU",
        "colab_type": "code",
        "colab": {}
      },
      "source": [
        "new_input_features1=x.append(day2_input_df)"
      ],
      "execution_count": 0,
      "outputs": []
    },
    {
      "cell_type": "code",
      "metadata": {
        "id": "88MOhwERk2FV",
        "colab_type": "code",
        "outputId": "7cb1c4a5-392d-4a4b-e3eb-fc59b7810aa2",
        "colab": {
          "base_uri": "https://localhost:8080/",
          "height": 34
        }
      },
      "source": [
        "new_input_features1.shape"
      ],
      "execution_count": 0,
      "outputs": [
        {
          "output_type": "execute_result",
          "data": {
            "text/plain": [
              "(4440, 16)"
            ]
          },
          "metadata": {
            "tags": []
          },
          "execution_count": 84
        }
      ]
    },
    {
      "cell_type": "code",
      "metadata": {
        "id": "Ba_PqK8xk2FX",
        "colab_type": "code",
        "colab": {}
      },
      "source": [
        "job_dummies2=pd.get_dummies(new_input_features1['job'],prefix='Job',drop_first=True)\n",
        "marital_dummies2=pd.get_dummies(new_input_features1['marital'],prefix='Marital',drop_first=True)\n",
        "edu_dummies2=pd.get_dummies(new_input_features1['education'],prefix='Edu',drop_first=True)\n",
        "default_dummies2=pd.get_dummies(new_input_features1['default'],prefix='Default',drop_first=True)\n",
        "housing_dummies2=pd.get_dummies(new_input_features1['housing'],prefix='House',drop_first=True)\n",
        "loan_dummies2=pd.get_dummies(new_input_features1['loan'],prefix='Loan',drop_first=True)\n",
        "contact_dummies2=pd.get_dummies(new_input_features1['contact'],prefix='Contact',drop_first=True)\n",
        "month_dummies2=pd.get_dummies(new_input_features1['month'],prefix='Month',drop_first=True)\n",
        "poutcome_dummies2=pd.get_dummies(new_input_features1['poutcome'],prefix='poutcome',drop_first=True)"
      ],
      "execution_count": 0,
      "outputs": []
    },
    {
      "cell_type": "code",
      "metadata": {
        "id": "3-UIfw-xk2FZ",
        "colab_type": "code",
        "colab": {}
      },
      "source": [
        "new_input_features1=pd.concat([new_input_features1,job_dummies2,marital_dummies2,edu_dummies2,default_dummies2,housing_dummies2,loan_dummies2,contact_dummies2,month_dummies2,poutcome_dummies2],1)"
      ],
      "execution_count": 0,
      "outputs": []
    },
    {
      "cell_type": "code",
      "metadata": {
        "id": "f1AfSATgk2Fa",
        "colab_type": "code",
        "outputId": "d3dc2e65-56fb-4eeb-8b8a-51e6e1269645",
        "colab": {
          "base_uri": "https://localhost:8080/",
          "height": 34
        }
      },
      "source": [
        "new_input_features1.shape"
      ],
      "execution_count": 0,
      "outputs": [
        {
          "output_type": "execute_result",
          "data": {
            "text/plain": [
              "(4440, 51)"
            ]
          },
          "metadata": {
            "tags": []
          },
          "execution_count": 87
        }
      ]
    },
    {
      "cell_type": "code",
      "metadata": {
        "id": "yWl1eoK7k2Fb",
        "colab_type": "code",
        "colab": {}
      },
      "source": [
        "new_input_features1=new_input_features1.drop(['job','marital','education','default','housing','loan','month','poutcome','contact'],axis=1)"
      ],
      "execution_count": 0,
      "outputs": []
    },
    {
      "cell_type": "code",
      "metadata": {
        "id": "WHWbxaJ9k2Fd",
        "colab_type": "code",
        "outputId": "013d514a-4403-4274-be44-994c4ee52ef9",
        "colab": {
          "base_uri": "https://localhost:8080/",
          "height": 34
        }
      },
      "source": [
        "new_input_features1.shape"
      ],
      "execution_count": 0,
      "outputs": [
        {
          "output_type": "execute_result",
          "data": {
            "text/plain": [
              "(4440, 42)"
            ]
          },
          "metadata": {
            "tags": []
          },
          "execution_count": 89
        }
      ]
    },
    {
      "cell_type": "code",
      "metadata": {
        "id": "nlSO5-DPk2Ff",
        "colab_type": "code",
        "colab": {}
      },
      "source": [
        "new_input_features1.tail()"
      ],
      "execution_count": 0,
      "outputs": []
    },
    {
      "cell_type": "code",
      "metadata": {
        "id": "0js1i2E8k2Fi",
        "colab_type": "code",
        "colab": {}
      },
      "source": [
        "onehot_encoded_new_input_features_day2=new_input_features1.iloc[-27:,:]"
      ],
      "execution_count": 0,
      "outputs": []
    },
    {
      "cell_type": "code",
      "metadata": {
        "id": "3go2BJjkk2Fj",
        "colab_type": "code",
        "outputId": "f5529551-a2a9-46ca-d79e-fb0a45563c4d",
        "colab": {
          "base_uri": "https://localhost:8080/",
          "height": 34
        }
      },
      "source": [
        "onehot_encoded_new_input_features_day2.shape"
      ],
      "execution_count": 0,
      "outputs": [
        {
          "output_type": "execute_result",
          "data": {
            "text/plain": [
              "(27, 42)"
            ]
          },
          "metadata": {
            "tags": []
          },
          "execution_count": 96
        }
      ]
    },
    {
      "cell_type": "code",
      "metadata": {
        "id": "jQCPJ_UOk2Fn",
        "colab_type": "code",
        "colab": {}
      },
      "source": [
        "day2_pred=clf.predict(onehot_encoded_new_input_features_day2)"
      ],
      "execution_count": 0,
      "outputs": []
    },
    {
      "cell_type": "code",
      "metadata": {
        "id": "wxxJhoNkk2Fo",
        "colab_type": "code",
        "colab": {}
      },
      "source": [
        "for i in range(0,27):\n",
        "    if day2_pred[i]>=.5:       # setting threshold to .5\n",
        "       day2_pred[i]=1\n",
        "    else:  \n",
        "       day2_pred[i]=0"
      ],
      "execution_count": 0,
      "outputs": []
    },
    {
      "cell_type": "markdown",
      "metadata": {
        "id": "Q9nRjVhAk2Fp",
        "colab_type": "text"
      },
      "source": [
        "We have received actual what happend on day2(Actual day2_output)"
      ]
    },
    {
      "cell_type": "code",
      "metadata": {
        "id": "GOe8FHtNk2Fp",
        "colab_type": "code",
        "colab": {}
      },
      "source": [
        "day2_Actual_output=pd.read_csv('Day2_Actual_output.xls')"
      ],
      "execution_count": 0,
      "outputs": []
    },
    {
      "cell_type": "code",
      "metadata": {
        "id": "weyEofG-k2Fq",
        "colab_type": "code",
        "colab": {}
      },
      "source": [
        "day2_actual_output=le.fit_transform(day2_Actual_output)"
      ],
      "execution_count": 0,
      "outputs": []
    },
    {
      "cell_type": "code",
      "metadata": {
        "id": "sppAg1Qjk2Fs",
        "colab_type": "code",
        "colab": {}
      },
      "source": [
        "print(classification_report(day2_actual_output,day2_pred))"
      ],
      "execution_count": 0,
      "outputs": []
    },
    {
      "cell_type": "code",
      "metadata": {
        "id": "A1880J8Sk2Ft",
        "colab_type": "code",
        "outputId": "bbb26e79-f7a6-4445-f276-03b2c34be9f6",
        "colab": {
          "base_uri": "https://localhost:8080/",
          "height": 51
        }
      },
      "source": [
        "print(confusion_matrix(day2_actual_output,day2_pred))"
      ],
      "execution_count": 0,
      "outputs": [
        {
          "output_type": "stream",
          "text": [
            "[[22  2]\n",
            " [ 2  1]]\n"
          ],
          "name": "stdout"
        }
      ]
    },
    {
      "cell_type": "code",
      "metadata": {
        "id": "kqWB6OsZk2Fu",
        "colab_type": "code",
        "outputId": "b58b03e7-7a27-4ba9-c646-0c864d925a96",
        "colab": {
          "base_uri": "https://localhost:8080/",
          "height": 34
        }
      },
      "source": [
        "day2_recall=recall_score(day2_actual_output,day2_pred)\n",
        "day2_recall"
      ],
      "execution_count": 0,
      "outputs": [
        {
          "output_type": "execute_result",
          "data": {
            "text/plain": [
              "0.3333333333333333"
            ]
          },
          "metadata": {
            "tags": []
          },
          "execution_count": 103
        }
      ]
    },
    {
      "cell_type": "markdown",
      "metadata": {
        "id": "dAguMBkNk2Fv",
        "colab_type": "text"
      },
      "source": [
        "#### Prediction for Day 3"
      ]
    },
    {
      "cell_type": "markdown",
      "metadata": {
        "id": "Qz5lbKdAk2Fv",
        "colab_type": "text"
      },
      "source": [
        "We have received Day3 data(Input)\n",
        "\n",
        "\n",
        "Import day3_input"
      ]
    },
    {
      "cell_type": "code",
      "metadata": {
        "id": "q9_k36FZk2Fv",
        "colab_type": "code",
        "colab": {}
      },
      "source": [
        "day3_input_df=pd.read_csv('Day3_input.xls')"
      ],
      "execution_count": 0,
      "outputs": []
    },
    {
      "cell_type": "code",
      "metadata": {
        "id": "16im2dSYk2Fx",
        "colab_type": "code",
        "outputId": "98d42fae-ed43-4502-9ee8-223adf86a4dc",
        "colab": {
          "base_uri": "https://localhost:8080/",
          "height": 34
        }
      },
      "source": [
        "day3_input_df.shape"
      ],
      "execution_count": 0,
      "outputs": [
        {
          "output_type": "execute_result",
          "data": {
            "text/plain": [
              "(27, 16)"
            ]
          },
          "metadata": {
            "tags": []
          },
          "execution_count": 105
        }
      ]
    },
    {
      "cell_type": "code",
      "metadata": {
        "id": "sXHac1srk2Fy",
        "colab_type": "code",
        "colab": {}
      },
      "source": [
        "day3_input_df.tail()"
      ],
      "execution_count": 0,
      "outputs": []
    },
    {
      "cell_type": "markdown",
      "metadata": {
        "id": "VdpQ8J672GxS",
        "colab_type": "text"
      },
      "source": [
        "#### Feature Engineering for Day 3"
      ]
    },
    {
      "cell_type": "code",
      "metadata": {
        "id": "t8GJLpuuk2F1",
        "colab_type": "code",
        "colab": {}
      },
      "source": [
        "new_input_features2=x.append(day3_input_df)"
      ],
      "execution_count": 0,
      "outputs": []
    },
    {
      "cell_type": "code",
      "metadata": {
        "id": "1L3ld1A_k2F2",
        "colab_type": "code",
        "outputId": "e0d7a25a-2a89-451d-8e9f-9685789bbf68",
        "colab": {
          "base_uri": "https://localhost:8080/",
          "height": 34
        }
      },
      "source": [
        "new_input_features2.shape"
      ],
      "execution_count": 0,
      "outputs": [
        {
          "output_type": "execute_result",
          "data": {
            "text/plain": [
              "(4440, 16)"
            ]
          },
          "metadata": {
            "tags": []
          },
          "execution_count": 108
        }
      ]
    },
    {
      "cell_type": "code",
      "metadata": {
        "id": "gYEFkoNNk2F3",
        "colab_type": "code",
        "colab": {}
      },
      "source": [
        "job_dummies3=pd.get_dummies(new_input_features2['job'],prefix='Job',drop_first=True)\n",
        "marital_dummies3=pd.get_dummies(new_input_features2['marital'],prefix='Marital',drop_first=True)\n",
        "edu_dummies3=pd.get_dummies(new_input_features2['education'],prefix='Edu',drop_first=True)\n",
        "default_dummies3=pd.get_dummies(new_input_features2['default'],prefix='Default',drop_first=True)\n",
        "housing_dummies3=pd.get_dummies(new_input_features2['housing'],prefix='House',drop_first=True)\n",
        "loan_dummies3=pd.get_dummies(new_input_features2['loan'],prefix='Loan',drop_first=True)\n",
        "contact_dummies3=pd.get_dummies(new_input_features2['contact'],prefix='Contact',drop_first=True)\n",
        "month_dummies3=pd.get_dummies(new_input_features2['month'],prefix='Month',drop_first=True)\n",
        "poutcome_dummies3=pd.get_dummies(new_input_features2['poutcome'],prefix='poutcome',drop_first=True)"
      ],
      "execution_count": 0,
      "outputs": []
    },
    {
      "cell_type": "code",
      "metadata": {
        "id": "0FNDicynk2F4",
        "colab_type": "code",
        "colab": {}
      },
      "source": [
        "new_input_features2=pd.concat([new_input_features2,job_dummies3,marital_dummies3,edu_dummies3,default_dummies3,housing_dummies3,loan_dummies3,contact_dummies3,month_dummies3,poutcome_dummies3],1)"
      ],
      "execution_count": 0,
      "outputs": []
    },
    {
      "cell_type": "code",
      "metadata": {
        "id": "R2VjSF4Wk2F5",
        "colab_type": "code",
        "colab": {}
      },
      "source": [
        "new_input_features2=new_input_features2.drop(['job','marital','education','default','housing','loan','month','poutcome','contact'],axis=1)"
      ],
      "execution_count": 0,
      "outputs": []
    },
    {
      "cell_type": "code",
      "metadata": {
        "id": "fYADSZLLk2F6",
        "colab_type": "code",
        "outputId": "396f90e8-acc0-4e7e-fdf4-adae06149cf1",
        "colab": {
          "base_uri": "https://localhost:8080/",
          "height": 34
        }
      },
      "source": [
        "new_input_features2.shape"
      ],
      "execution_count": 0,
      "outputs": [
        {
          "output_type": "execute_result",
          "data": {
            "text/plain": [
              "(4440, 42)"
            ]
          },
          "metadata": {
            "tags": []
          },
          "execution_count": 112
        }
      ]
    },
    {
      "cell_type": "code",
      "metadata": {
        "id": "4Vxv4wnek2GA",
        "colab_type": "code",
        "colab": {}
      },
      "source": [
        "onehot_encoded_new_input_features_day3=new_input_features2.iloc[-27:,:]"
      ],
      "execution_count": 0,
      "outputs": []
    },
    {
      "cell_type": "code",
      "metadata": {
        "id": "_yVx5RC8k2GC",
        "colab_type": "code",
        "colab": {}
      },
      "source": [
        "onehot_encoded_new_input_features_day3.tail()"
      ],
      "execution_count": 0,
      "outputs": []
    },
    {
      "cell_type": "code",
      "metadata": {
        "id": "nkoJyTKqk2GE",
        "colab_type": "code",
        "colab": {}
      },
      "source": [
        "onehot_encoded_new_input_features_day3.shape"
      ],
      "execution_count": 0,
      "outputs": []
    },
    {
      "cell_type": "markdown",
      "metadata": {
        "id": "XIyfUI77k2GG",
        "colab_type": "text"
      },
      "source": [
        "#### Predicting day 3 data\n",
        "\n",
        "We have received data of day 3(Input features) and we will predict the labels using clf model"
      ]
    },
    {
      "cell_type": "code",
      "metadata": {
        "id": "3Re9wvrUk2GH",
        "colab_type": "code",
        "colab": {}
      },
      "source": [
        "day3_pred=clf.predict(onehot_encoded_new_input_features_day3)"
      ],
      "execution_count": 0,
      "outputs": []
    },
    {
      "cell_type": "code",
      "metadata": {
        "id": "y0ZoZekNk2GJ",
        "colab_type": "code",
        "colab": {}
      },
      "source": [
        "for i in range(0,27):\n",
        "    if day3_pred[i]>=.5:       # setting threshold to .5\n",
        "       day3_pred[i]=1\n",
        "    else:  \n",
        "       day3_pred[i]=0"
      ],
      "execution_count": 0,
      "outputs": []
    },
    {
      "cell_type": "markdown",
      "metadata": {
        "id": "z90U9zTRk2GL",
        "colab_type": "text"
      },
      "source": [
        "We have received actual what happend on day3(Actual day3_output)"
      ]
    },
    {
      "cell_type": "code",
      "metadata": {
        "id": "zWUSEAwck2GN",
        "colab_type": "code",
        "colab": {}
      },
      "source": [
        "day3_Actual_output=pd.read_csv('Day3_Actual_output.xls')"
      ],
      "execution_count": 0,
      "outputs": []
    },
    {
      "cell_type": "code",
      "metadata": {
        "id": "QW-_zS3yk2GP",
        "colab_type": "code",
        "colab": {}
      },
      "source": [
        "day3_Actual_output=le.fit_transform(day3_Actual_output)\n",
        "pd.crosstab(day3_Actual_output,'count')"
      ],
      "execution_count": 0,
      "outputs": []
    },
    {
      "cell_type": "code",
      "metadata": {
        "id": "jnKKsT7Qk2GT",
        "colab_type": "code",
        "colab": {}
      },
      "source": [
        "print(classification_report(day3_Actual_output,day3_pred))"
      ],
      "execution_count": 0,
      "outputs": []
    },
    {
      "cell_type": "code",
      "metadata": {
        "id": "mj9dorxik2GV",
        "colab_type": "code",
        "colab": {}
      },
      "source": [
        "day3_recall=recall_score(day3_Actual_output,day3_pred)\n",
        "day3_recall"
      ],
      "execution_count": 0,
      "outputs": []
    },
    {
      "cell_type": "code",
      "metadata": {
        "id": "VCaIKlnBk2GY",
        "colab_type": "code",
        "colab": {}
      },
      "source": [
        "print(confusion_matrix(day3_Actual_output,day3_pred))"
      ],
      "execution_count": 0,
      "outputs": []
    },
    {
      "cell_type": "markdown",
      "metadata": {
        "id": "NONvvOAqk2Ga",
        "colab_type": "text"
      },
      "source": [
        "#### Prediction for Day 4"
      ]
    },
    {
      "cell_type": "markdown",
      "metadata": {
        "id": "sH-ffPgqk2Gb",
        "colab_type": "text"
      },
      "source": [
        "Predicting day 4 data\n",
        "\n",
        "\n",
        "We have received data of day 4(Input features) and we will predict the labels using clf model"
      ]
    },
    {
      "cell_type": "code",
      "metadata": {
        "id": "DURLGETAk2Gb",
        "colab_type": "code",
        "colab": {}
      },
      "source": [
        "day4_input_df=pd.read_csv('Day4_input.xls')"
      ],
      "execution_count": 0,
      "outputs": []
    },
    {
      "cell_type": "code",
      "metadata": {
        "id": "_u9iD5Iqk2Gf",
        "colab_type": "code",
        "colab": {}
      },
      "source": [
        "day4_input_df.tail()"
      ],
      "execution_count": 0,
      "outputs": []
    },
    {
      "cell_type": "code",
      "metadata": {
        "id": "BfyaRcrFk2Gi",
        "colab_type": "code",
        "outputId": "80b8a11d-87ea-43af-933f-04c032708f61",
        "colab": {
          "base_uri": "https://localhost:8080/",
          "height": 34
        }
      },
      "source": [
        "day4_input_df.shape"
      ],
      "execution_count": 0,
      "outputs": [
        {
          "output_type": "execute_result",
          "data": {
            "text/plain": [
              "(27, 16)"
            ]
          },
          "metadata": {
            "tags": []
          },
          "execution_count": 127
        }
      ]
    },
    {
      "cell_type": "markdown",
      "metadata": {
        "id": "IdH799s_2Mt3",
        "colab_type": "text"
      },
      "source": [
        "#### Feature Engineering for Day 4"
      ]
    },
    {
      "cell_type": "code",
      "metadata": {
        "id": "E9reE7qYk2Gm",
        "colab_type": "code",
        "colab": {}
      },
      "source": [
        "new_input_features3=x.append(day4_input_df)"
      ],
      "execution_count": 0,
      "outputs": []
    },
    {
      "cell_type": "code",
      "metadata": {
        "id": "6dUum8fik2Gp",
        "colab_type": "code",
        "outputId": "5c7810e5-fa57-43da-f590-8bdb0d9fa46e",
        "colab": {
          "base_uri": "https://localhost:8080/",
          "height": 34
        }
      },
      "source": [
        "new_input_features3.shape"
      ],
      "execution_count": 0,
      "outputs": [
        {
          "output_type": "execute_result",
          "data": {
            "text/plain": [
              "(4440, 16)"
            ]
          },
          "metadata": {
            "tags": []
          },
          "execution_count": 129
        }
      ]
    },
    {
      "cell_type": "code",
      "metadata": {
        "id": "32Nq_YAFk2HE",
        "colab_type": "code",
        "colab": {}
      },
      "source": [
        "job_dummies4=pd.get_dummies(new_input_features3['job'],prefix='Job',drop_first=True)\n",
        "marital_dummies4=pd.get_dummies(new_input_features3['marital'],prefix='Marital',drop_first=True)\n",
        "edu_dummies4=pd.get_dummies(new_input_features3['education'],prefix='Edu',drop_first=True)\n",
        "default_dummies4=pd.get_dummies(new_input_features3['default'],prefix='Default',drop_first=True)\n",
        "housing_dummies4=pd.get_dummies(new_input_features3['housing'],prefix='House',drop_first=True)\n",
        "loan_dummies4=pd.get_dummies(new_input_features3['loan'],prefix='Loan',drop_first=True)\n",
        "contact_dummies4=pd.get_dummies(new_input_features3['contact'],prefix='Contact',drop_first=True)\n",
        "month_dummies4=pd.get_dummies(new_input_features3['month'],prefix='Month',drop_first=True)\n",
        "poutcome_dummies4=pd.get_dummies(new_input_features3['poutcome'],prefix='poutcome',drop_first=True)"
      ],
      "execution_count": 0,
      "outputs": []
    },
    {
      "cell_type": "code",
      "metadata": {
        "id": "cJLJQLefk2HG",
        "colab_type": "code",
        "colab": {}
      },
      "source": [
        "new_input_features3=pd.concat([new_input_features3,job_dummies4,marital_dummies4,edu_dummies4,default_dummies4,housing_dummies4,loan_dummies4,contact_dummies4,month_dummies4,poutcome_dummies4],1)"
      ],
      "execution_count": 0,
      "outputs": []
    },
    {
      "cell_type": "code",
      "metadata": {
        "id": "kh7HWZXZk2HH",
        "colab_type": "code",
        "colab": {}
      },
      "source": [
        "new_input_features3=new_input_features3.drop(['job','marital','education','default','housing','loan','month','poutcome','contact'],axis=1)"
      ],
      "execution_count": 0,
      "outputs": []
    },
    {
      "cell_type": "code",
      "metadata": {
        "id": "mku2__8Lk2HI",
        "colab_type": "code",
        "outputId": "2092a7e9-53e2-4c1f-99b3-eaad6d8ed9da",
        "colab": {
          "base_uri": "https://localhost:8080/",
          "height": 34
        }
      },
      "source": [
        "new_input_features3.shape"
      ],
      "execution_count": 0,
      "outputs": [
        {
          "output_type": "execute_result",
          "data": {
            "text/plain": [
              "(4440, 42)"
            ]
          },
          "metadata": {
            "tags": []
          },
          "execution_count": 133
        }
      ]
    },
    {
      "cell_type": "code",
      "metadata": {
        "id": "Sk_USP0Qk2HJ",
        "colab_type": "code",
        "colab": {}
      },
      "source": [
        "onehot_encoded_new_input_features_day4=new_input_features3.iloc[-27:,:]"
      ],
      "execution_count": 0,
      "outputs": []
    },
    {
      "cell_type": "code",
      "metadata": {
        "id": "aXSI9AdJk2HK",
        "colab_type": "code",
        "colab": {}
      },
      "source": [
        "onehot_encoded_new_input_features_day4.tail()"
      ],
      "execution_count": 0,
      "outputs": []
    },
    {
      "cell_type": "markdown",
      "metadata": {
        "id": "56Y9Cr02k2HL",
        "colab_type": "text"
      },
      "source": [
        "Predicting day 4 data\n",
        "We have received data of day 4(Input features) and we will predict the labels using clf model\n"
      ]
    },
    {
      "cell_type": "code",
      "metadata": {
        "id": "RZGVdFmNk2HL",
        "colab_type": "code",
        "colab": {}
      },
      "source": [
        "day4_pred=clf.predict(onehot_encoded_new_input_features_day4)"
      ],
      "execution_count": 0,
      "outputs": []
    },
    {
      "cell_type": "code",
      "metadata": {
        "id": "WPMY9NSAk2HM",
        "colab_type": "code",
        "colab": {}
      },
      "source": [
        "for i in range(0,27):\n",
        "    if day4_pred[i]>=.5:       # setting threshold to .5\n",
        "       day4_pred[i]=1\n",
        "    else:  \n",
        "       day4_pred[i]=0"
      ],
      "execution_count": 0,
      "outputs": []
    },
    {
      "cell_type": "markdown",
      "metadata": {
        "id": "rEqcpwUTk2HM",
        "colab_type": "text"
      },
      "source": [
        "We have received actual what happend on day3(Actual day3_output)"
      ]
    },
    {
      "cell_type": "code",
      "metadata": {
        "id": "VuxzydeNk2HN",
        "colab_type": "code",
        "colab": {}
      },
      "source": [
        "day4_actual_output=pd.read_csv('Day4_Actual_output.xls')"
      ],
      "execution_count": 0,
      "outputs": []
    },
    {
      "cell_type": "code",
      "metadata": {
        "id": "UuM_DHlPk2HO",
        "colab_type": "code",
        "colab": {}
      },
      "source": [
        "day4_actual_output=le.fit_transform(day4_actual_output)\n",
        "pd.crosstab(day4_actual_output,'count')"
      ],
      "execution_count": 0,
      "outputs": []
    },
    {
      "cell_type": "code",
      "metadata": {
        "id": "jgLggnbJk2HP",
        "colab_type": "code",
        "colab": {}
      },
      "source": [
        "print(classification_report(day4_actual_output,day4_pred))"
      ],
      "execution_count": 0,
      "outputs": []
    },
    {
      "cell_type": "code",
      "metadata": {
        "id": "kWLH9knUk2HP",
        "colab_type": "code",
        "outputId": "0855466f-b711-4a77-d9fe-047fca2ceba0",
        "colab": {
          "base_uri": "https://localhost:8080/",
          "height": 34
        }
      },
      "source": [
        "day4_recall=recall_score(day4_actual_output,day4_pred)\n",
        "day4_recall"
      ],
      "execution_count": 0,
      "outputs": [
        {
          "output_type": "execute_result",
          "data": {
            "text/plain": [
              "0.6666666666666666"
            ]
          },
          "metadata": {
            "tags": []
          },
          "execution_count": 150
        }
      ]
    },
    {
      "cell_type": "code",
      "metadata": {
        "id": "X-hugAgGk2HQ",
        "colab_type": "code",
        "outputId": "2c57fba0-3969-4fee-844c-a2c2999d6dce",
        "colab": {
          "base_uri": "https://localhost:8080/",
          "height": 51
        }
      },
      "source": [
        "print(confusion_matrix(day4_actual_output,day4_pred))"
      ],
      "execution_count": 0,
      "outputs": [
        {
          "output_type": "stream",
          "text": [
            "[[23  1]\n",
            " [ 1  2]]\n"
          ],
          "name": "stdout"
        }
      ]
    },
    {
      "cell_type": "code",
      "metadata": {
        "id": "T3Z_oNGbk2HS",
        "colab_type": "code",
        "outputId": "52de0ff8-2e52-4469-a330-bfd3e32520f2",
        "colab": {
          "base_uri": "https://localhost:8080/",
          "height": 269
        }
      },
      "source": [
        "all_recall = [day1_recall, day2_recall, day3_recall, day4_recall]\n",
        "\n",
        "a=range(0,4)\n",
        "plt.bar(a,all_recall)\n",
        "plt.show()"
      ],
      "execution_count": 0,
      "outputs": [
        {
          "output_type": "display_data",
          "data": {
            "image/png": "[encoded data removed]",
            "text/plain": [
              "<Figure size 432x288 with 1 Axes>"
            ]
          },
          "metadata": {
            "tags": []
          }
        }
      ]
    },
    {
      "cell_type": "markdown",
      "metadata": {
        "id": "6FMvtQehk2HS",
        "colab_type": "text"
      },
      "source": [
        "#### Retrain the model with day 1,2,3 and 4 data"
      ]
    },
    {
      "cell_type": "code",
      "metadata": {
        "id": "Naghz5mBk2HT",
        "colab_type": "code",
        "colab": {}
      },
      "source": [
        "import numpy as np"
      ],
      "execution_count": 0,
      "outputs": []
    },
    {
      "cell_type": "code",
      "metadata": {
        "id": "MlT5GtEXk2HV",
        "colab_type": "code",
        "colab": {}
      },
      "source": [
        "retrain_X=pd.concat([X,onehot_encoded_new_input_features_day1,onehot_encoded_new_input_features_day2,\n",
        "                    onehot_encoded_new_input_features_day3,onehot_encoded_new_input_features_day4],axis=0)"
      ],
      "execution_count": 0,
      "outputs": []
    },
    {
      "cell_type": "code",
      "metadata": {
        "id": "eIcpxgNSk2HV",
        "colab_type": "code",
        "colab": {}
      },
      "source": [
        "Y=np.concatenate((y,day1_actual_output,day2_actual_output,day3_Actual_output,day4_actual_output),axis=0)"
      ],
      "execution_count": 0,
      "outputs": []
    },
    {
      "cell_type": "code",
      "metadata": {
        "id": "5rjQZkMEk2HW",
        "colab_type": "code",
        "outputId": "fbfa15bf-3f19-4005-9829-4236eec35806",
        "colab": {
          "base_uri": "https://localhost:8080/",
          "height": 34
        }
      },
      "source": [
        "Y.shape"
      ],
      "execution_count": 0,
      "outputs": [
        {
          "output_type": "execute_result",
          "data": {
            "text/plain": [
              "(4521,)"
            ]
          },
          "metadata": {
            "tags": []
          },
          "execution_count": 167
        }
      ]
    },
    {
      "cell_type": "code",
      "metadata": {
        "id": "xkRhlcHlk2HZ",
        "colab_type": "code",
        "outputId": "2bd64c7d-e107-461f-a418-1bb1c973fa37",
        "colab": {
          "base_uri": "https://localhost:8080/",
          "height": 34
        }
      },
      "source": [
        "retrain_X.shape"
      ],
      "execution_count": 0,
      "outputs": [
        {
          "output_type": "execute_result",
          "data": {
            "text/plain": [
              "(4521, 42)"
            ]
          },
          "metadata": {
            "tags": []
          },
          "execution_count": 168
        }
      ]
    },
    {
      "cell_type": "code",
      "metadata": {
        "id": "gaBQjuE8k2Ha",
        "colab_type": "code",
        "colab": {}
      },
      "source": [
        "smote=SMOTE(ratio='minority')\n",
        "X_sm,Y_sm=smote.fit_sample(retrain_X,Y)"
      ],
      "execution_count": 0,
      "outputs": []
    },
    {
      "cell_type": "code",
      "metadata": {
        "id": "6Lu5s5SFk2Hd",
        "colab_type": "code",
        "colab": {}
      },
      "source": [
        "X_train,X_test,Y_train,Y_test=train_test_split(X_sm,Y_sm,test_size=0.20,random_state=1234)"
      ],
      "execution_count": 0,
      "outputs": []
    },
    {
      "cell_type": "code",
      "metadata": {
        "id": "f4g5QZJnk2Hd",
        "colab_type": "code",
        "outputId": "5bf9d9a4-ffcf-47a7-8525-2986809b8732",
        "colab": {
          "base_uri": "https://localhost:8080/",
          "height": 85
        }
      },
      "source": [
        "print(X_train.shape)\n",
        "print(X_test.shape)\n",
        "print(Y_train.shape)\n",
        "print(Y_test.shape)"
      ],
      "execution_count": 0,
      "outputs": [
        {
          "output_type": "stream",
          "text": [
            "(6400, 42)\n",
            "(1600, 42)\n",
            "(6400,)\n",
            "(1600,)\n"
          ],
          "name": "stdout"
        }
      ]
    },
    {
      "cell_type": "code",
      "metadata": {
        "id": "acYV84i-k2Hf",
        "colab_type": "code",
        "colab": {}
      },
      "source": [
        "d_train = lgb.Dataset(X_train, label=Y_train)\n",
        "params = {}\n",
        "params['learning_rate'] = 0.003\n",
        "params['boosting_type'] = 'gbdt'\n",
        "params['objective'] = 'binary'\n",
        "params['metric'] = 'binary_logloss'\n",
        "params['sub_feature'] = 0.5\n",
        "params['num_leaves'] = 15\n",
        "params['min_data'] = 50\n",
        "params['max_depth'] = 10\n",
        "clf1 = lgb.train(params, d_train, 100)"
      ],
      "execution_count": 0,
      "outputs": []
    },
    {
      "cell_type": "code",
      "metadata": {
        "id": "sLhR0Hj6k2Hg",
        "colab_type": "code",
        "colab": {}
      },
      "source": [
        "final_y_pred=clf1.predict(X_test)"
      ],
      "execution_count": 0,
      "outputs": []
    },
    {
      "cell_type": "code",
      "metadata": {
        "id": "oF5VHuj3k2Hg",
        "colab_type": "code",
        "colab": {}
      },
      "source": [
        "for i in range(0,1600):\n",
        "    if final_y_pred[i]>=0.5:\n",
        "       final_y_pred[i]=1\n",
        "    else:\n",
        "       final_y_pred[i]=0"
      ],
      "execution_count": 0,
      "outputs": []
    },
    {
      "cell_type": "code",
      "metadata": {
        "id": "aKZ6HYCNk2Hh",
        "colab_type": "code",
        "colab": {}
      },
      "source": [
        "print('Accuracy\\n',accuracy_score(Y_test,final_y_pred))"
      ],
      "execution_count": 0,
      "outputs": []
    },
    {
      "cell_type": "code",
      "metadata": {
        "id": "_46l7Jqxk2Hi",
        "colab_type": "code",
        "outputId": "791321a1-7a18-4e17-e0da-7cd22119f9e7",
        "colab": {
          "base_uri": "https://localhost:8080/",
          "height": 193
        }
      },
      "source": [
        "print('classification_report\\n',classification_report(Y_test,final_y_pred))"
      ],
      "execution_count": 0,
      "outputs": [
        {
          "output_type": "stream",
          "text": [
            "classification_report\n",
            "               precision    recall  f1-score   support\n",
            "\n",
            "           0       0.90      0.89      0.90       801\n",
            "           1       0.89      0.90      0.90       799\n",
            "\n",
            "    accuracy                           0.90      1600\n",
            "   macro avg       0.90      0.90      0.90      1600\n",
            "weighted avg       0.90      0.90      0.90      1600\n",
            "\n"
          ],
          "name": "stdout"
        }
      ]
    },
    {
      "cell_type": "code",
      "metadata": {
        "id": "8i3BSyXVk2Hj",
        "colab_type": "code",
        "outputId": "585ec10b-fd57-412d-a292-8955555282b2",
        "colab": {
          "base_uri": "https://localhost:8080/",
          "height": 70
        }
      },
      "source": [
        "print('confusion_matrix\\n',confusion_matrix(Y_test,final_y_pred))"
      ],
      "execution_count": 0,
      "outputs": [
        {
          "output_type": "stream",
          "text": [
            "confusion_matrix\n",
            " [[713  88]\n",
            " [ 79 720]]\n"
          ],
          "name": "stdout"
        }
      ]
    },
    {
      "cell_type": "markdown",
      "metadata": {
        "id": "IetLGakMk2Hk",
        "colab_type": "text"
      },
      "source": [
        "#### Compare Recall_score of final model with previous one"
      ]
    },
    {
      "cell_type": "code",
      "metadata": {
        "id": "HNv1oHR-k2Hk",
        "colab_type": "code",
        "outputId": "a112e350-cbee-44d2-ff54-4cf2a6824672",
        "colab": {
          "base_uri": "https://localhost:8080/",
          "height": 34
        }
      },
      "source": [
        "print(recall_score(y_test,y_pred))  # First model"
      ],
      "execution_count": 0,
      "outputs": [
        {
          "output_type": "stream",
          "text": [
            "0.8763906056860321\n"
          ],
          "name": "stdout"
        }
      ]
    },
    {
      "cell_type": "code",
      "metadata": {
        "id": "lCktVlyrk2Hm",
        "colab_type": "code",
        "outputId": "f6562bd0-ef80-4d95-cffe-d9fcc58f31ed",
        "colab": {
          "base_uri": "https://localhost:8080/",
          "height": 306
        }
      },
      "source": [
        "print(recall_score(Y_test,final_y_pred))  # Final model"
      ],
      "execution_count": 0,
      "outputs": [
        {
          "output_type": "error",
          "ename": "ValueError",
          "evalue": "ignored",
          "traceback": [
            "\u001b[0;31m---------------------------------------------------------------------------\u001b[0m",
            "\u001b[0;31mValueError\u001b[0m                                Traceback (most recent call last)",
            "\u001b[0;32m<ipython-input-185-6332f78bd2bc>\u001b[0m in \u001b[0;36m<module>\u001b[0;34m()\u001b[0m\n\u001b[0;32m----> 1\u001b[0;31m \u001b[0mprint\u001b[0m\u001b[0;34m(\u001b[0m\u001b[0mrecall_score\u001b[0m\u001b[0;34m(\u001b[0m\u001b[0mY_test\u001b[0m\u001b[0;34m,\u001b[0m\u001b[0mfinal_y_pred\u001b[0m\u001b[0;34m)\u001b[0m\u001b[0;34m)\u001b[0m  \u001b[0;31m# Final model\u001b[0m\u001b[0;34m\u001b[0m\u001b[0;34m\u001b[0m\u001b[0m\n\u001b[0m",
            "\u001b[0;32m/usr/local/lib/python3.6/dist-packages/sklearn/metrics/classification.py\u001b[0m in \u001b[0;36mrecall_score\u001b[0;34m(y_true, y_pred, labels, pos_label, average, sample_weight)\u001b[0m\n\u001b[1;32m   1673\u001b[0m                                                  \u001b[0maverage\u001b[0m\u001b[0;34m=\u001b[0m\u001b[0maverage\u001b[0m\u001b[0;34m,\u001b[0m\u001b[0;34m\u001b[0m\u001b[0;34m\u001b[0m\u001b[0m\n\u001b[1;32m   1674\u001b[0m                                                  \u001b[0mwarn_for\u001b[0m\u001b[0;34m=\u001b[0m\u001b[0;34m(\u001b[0m\u001b[0;34m'recall'\u001b[0m\u001b[0;34m,\u001b[0m\u001b[0;34m)\u001b[0m\u001b[0;34m,\u001b[0m\u001b[0;34m\u001b[0m\u001b[0;34m\u001b[0m\u001b[0m\n\u001b[0;32m-> 1675\u001b[0;31m                                                  sample_weight=sample_weight)\n\u001b[0m\u001b[1;32m   1676\u001b[0m     \u001b[0;32mreturn\u001b[0m \u001b[0mr\u001b[0m\u001b[0;34m\u001b[0m\u001b[0;34m\u001b[0m\u001b[0m\n\u001b[1;32m   1677\u001b[0m \u001b[0;34m\u001b[0m\u001b[0m\n",
            "\u001b[0;32m/usr/local/lib/python3.6/dist-packages/sklearn/metrics/classification.py\u001b[0m in \u001b[0;36mprecision_recall_fscore_support\u001b[0;34m(y_true, y_pred, beta, labels, pos_label, average, warn_for, sample_weight)\u001b[0m\n\u001b[1;32m   1413\u001b[0m         \u001b[0;32mraise\u001b[0m \u001b[0mValueError\u001b[0m\u001b[0;34m(\u001b[0m\u001b[0;34m\"beta should be >0 in the F-beta score\"\u001b[0m\u001b[0;34m)\u001b[0m\u001b[0;34m\u001b[0m\u001b[0;34m\u001b[0m\u001b[0m\n\u001b[1;32m   1414\u001b[0m     labels = _check_set_wise_labels(y_true, y_pred, average, labels,\n\u001b[0;32m-> 1415\u001b[0;31m                                     pos_label)\n\u001b[0m\u001b[1;32m   1416\u001b[0m \u001b[0;34m\u001b[0m\u001b[0m\n\u001b[1;32m   1417\u001b[0m     \u001b[0;31m# Calculate tp_sum, pred_sum, true_sum ###\u001b[0m\u001b[0;34m\u001b[0m\u001b[0;34m\u001b[0m\u001b[0;34m\u001b[0m\u001b[0m\n",
            "\u001b[0;32m/usr/local/lib/python3.6/dist-packages/sklearn/metrics/classification.py\u001b[0m in \u001b[0;36m_check_set_wise_labels\u001b[0;34m(y_true, y_pred, average, labels, pos_label)\u001b[0m\n\u001b[1;32m   1237\u001b[0m                          str(average_options))\n\u001b[1;32m   1238\u001b[0m \u001b[0;34m\u001b[0m\u001b[0m\n\u001b[0;32m-> 1239\u001b[0;31m     \u001b[0my_type\u001b[0m\u001b[0;34m,\u001b[0m \u001b[0my_true\u001b[0m\u001b[0;34m,\u001b[0m \u001b[0my_pred\u001b[0m \u001b[0;34m=\u001b[0m \u001b[0m_check_targets\u001b[0m\u001b[0;34m(\u001b[0m\u001b[0my_true\u001b[0m\u001b[0;34m,\u001b[0m \u001b[0my_pred\u001b[0m\u001b[0;34m)\u001b[0m\u001b[0;34m\u001b[0m\u001b[0;34m\u001b[0m\u001b[0m\n\u001b[0m\u001b[1;32m   1240\u001b[0m     \u001b[0mpresent_labels\u001b[0m \u001b[0;34m=\u001b[0m \u001b[0munique_labels\u001b[0m\u001b[0;34m(\u001b[0m\u001b[0my_true\u001b[0m\u001b[0;34m,\u001b[0m \u001b[0my_pred\u001b[0m\u001b[0;34m)\u001b[0m\u001b[0;34m\u001b[0m\u001b[0;34m\u001b[0m\u001b[0m\n\u001b[1;32m   1241\u001b[0m     \u001b[0;32mif\u001b[0m \u001b[0maverage\u001b[0m \u001b[0;34m==\u001b[0m \u001b[0;34m'binary'\u001b[0m\u001b[0;34m:\u001b[0m\u001b[0;34m\u001b[0m\u001b[0;34m\u001b[0m\u001b[0m\n",
            "\u001b[0;32m/usr/local/lib/python3.6/dist-packages/sklearn/metrics/classification.py\u001b[0m in \u001b[0;36m_check_targets\u001b[0;34m(y_true, y_pred)\u001b[0m\n\u001b[1;32m     79\u001b[0m     \u001b[0;32mif\u001b[0m \u001b[0mlen\u001b[0m\u001b[0;34m(\u001b[0m\u001b[0my_type\u001b[0m\u001b[0;34m)\u001b[0m \u001b[0;34m>\u001b[0m \u001b[0;36m1\u001b[0m\u001b[0;34m:\u001b[0m\u001b[0;34m\u001b[0m\u001b[0;34m\u001b[0m\u001b[0m\n\u001b[1;32m     80\u001b[0m         raise ValueError(\"Classification metrics can't handle a mix of {0} \"\n\u001b[0;32m---> 81\u001b[0;31m                          \"and {1} targets\".format(type_true, type_pred))\n\u001b[0m\u001b[1;32m     82\u001b[0m \u001b[0;34m\u001b[0m\u001b[0m\n\u001b[1;32m     83\u001b[0m     \u001b[0;31m# We can't have more than one value on y_type => The set is no more needed\u001b[0m\u001b[0;34m\u001b[0m\u001b[0;34m\u001b[0m\u001b[0;34m\u001b[0m\u001b[0m\n",
            "\u001b[0;31mValueError\u001b[0m: Classification metrics can't handle a mix of binary and continuous targets"
          ]
        }
      ]
    },
    {
      "cell_type": "markdown",
      "metadata": {
        "id": "rsBPO-Vik2Ho",
        "colab_type": "text"
      },
      "source": [
        "An improvement in recall score is obsevered in the final model built on the entire data\n",
        "Thus we can retrain our existing model to find performance of the model on more data"
      ]
    },
    {
      "cell_type": "markdown",
      "metadata": {
        "id": "Uu_UyNAD093-",
        "colab_type": "text"
      },
      "source": [
        "#### Training a Random Forest Classifier on the entire data"
      ]
    },
    {
      "cell_type": "code",
      "metadata": {
        "id": "n2T5Ol3hk2Hq",
        "colab_type": "code",
        "colab": {}
      },
      "source": [
        "rf=RandomForestClassifier() # Define the classifier"
      ],
      "execution_count": 0,
      "outputs": []
    },
    {
      "cell_type": "markdown",
      "metadata": {
        "id": "SRsK9TYck2Hr",
        "colab_type": "text"
      },
      "source": [
        "##### 6.2 Train a Random Forest model"
      ]
    },
    {
      "cell_type": "code",
      "metadata": {
        "id": "ZHQEfa9Kk2Hr",
        "colab_type": "code",
        "outputId": "11f00299-10b4-4441-a078-ed289a140854",
        "colab": {
          "base_uri": "https://localhost:8080/",
          "height": 88
        }
      },
      "source": [
        "rf_model=rf.fit(X_train,Y_train)\n",
        "rf_train_pred=rf_model.predict(X_train)\n",
        "print(accuracy_score(Y_train,rf_train_pred))"
      ],
      "execution_count": 0,
      "outputs": [
        {
          "output_type": "stream",
          "text": [
            "0.99640625\n"
          ],
          "name": "stdout"
        },
        {
          "output_type": "stream",
          "text": [
            "/usr/local/lib/python3.6/dist-packages/sklearn/ensemble/forest.py:245: FutureWarning: The default value of n_estimators will change from 10 in version 0.20 to 100 in 0.22.\n",
            "  \"10 in version 0.20 to 100 in 0.22.\", FutureWarning)\n"
          ],
          "name": "stderr"
        }
      ]
    },
    {
      "cell_type": "markdown",
      "metadata": {
        "id": "1ArngwgFk2Hs",
        "colab_type": "text"
      },
      "source": [
        "##### Validate the model on validation data"
      ]
    },
    {
      "cell_type": "code",
      "metadata": {
        "id": "YGC-1s9_k2Hs",
        "colab_type": "code",
        "outputId": "8417a3f6-ff12-4d21-dd4a-0b6910148fdb",
        "colab": {
          "base_uri": "https://localhost:8080/",
          "height": 34
        }
      },
      "source": [
        "rf_test_pred=rf_model.predict(X_test)\n",
        "print(accuracy_score(rf_test_pred,Y_test))"
      ],
      "execution_count": 0,
      "outputs": [
        {
          "output_type": "stream",
          "text": [
            "0.92625\n"
          ],
          "name": "stdout"
        }
      ]
    },
    {
      "cell_type": "code",
      "metadata": {
        "id": "J3a4MqIAk2Ht",
        "colab_type": "code",
        "outputId": "fab8185c-b22e-485a-cbcc-1920ea5df886",
        "colab": {
          "base_uri": "https://localhost:8080/",
          "height": 221
        }
      },
      "source": [
        "print(confusion_matrix(Y_test,rf_test_pred))\n",
        "print('classification_report \\n',classification_report(rf_test_pred,Y_test))"
      ],
      "execution_count": 0,
      "outputs": [
        {
          "output_type": "stream",
          "text": [
            "[[751  50]\n",
            " [ 68 731]]\n",
            "classification_report \n",
            "               precision    recall  f1-score   support\n",
            "\n",
            "           0       0.94      0.92      0.93       819\n",
            "           1       0.91      0.94      0.93       781\n",
            "\n",
            "    accuracy                           0.93      1600\n",
            "   macro avg       0.93      0.93      0.93      1600\n",
            "weighted avg       0.93      0.93      0.93      1600\n",
            "\n"
          ],
          "name": "stdout"
        }
      ]
    },
    {
      "cell_type": "markdown",
      "metadata": {
        "id": "gWe1Ml9Rk2Hu",
        "colab_type": "text"
      },
      "source": [
        "#### Recall score of RandomForest model"
      ]
    },
    {
      "cell_type": "code",
      "metadata": {
        "id": "Yfv3IfFwk2Hv",
        "colab_type": "code",
        "outputId": "6ca48376-067a-4d1c-8cfc-742bf7b9193c",
        "colab": {
          "base_uri": "https://localhost:8080/",
          "height": 34
        }
      },
      "source": [
        "rf_recall=recall_score(rf_test_pred,Y_test)\n",
        "rf_recall"
      ],
      "execution_count": 0,
      "outputs": [
        {
          "output_type": "execute_result",
          "data": {
            "text/plain": [
              "0.9359795134443022"
            ]
          },
          "metadata": {
            "tags": []
          },
          "execution_count": 190
        }
      ]
    },
    {
      "cell_type": "markdown",
      "metadata": {
        "id": "5J_kaf5yk2Hv",
        "colab_type": "text"
      },
      "source": [
        "#### Recall Score of LightGBM model"
      ]
    },
    {
      "cell_type": "code",
      "metadata": {
        "id": "q4N2QtPQk2Hw",
        "colab_type": "code",
        "outputId": "632ca208-e1f1-4e17-ad9f-4af228f9f605",
        "colab": {
          "base_uri": "https://localhost:8080/",
          "height": 323
        }
      },
      "source": [
        "lightGBM_recall=recall_score(Y_test,final_y_pred)\n",
        "lightGBM_recall"
      ],
      "execution_count": 0,
      "outputs": [
        {
          "output_type": "error",
          "ename": "ValueError",
          "evalue": "ignored",
          "traceback": [
            "\u001b[0;31m---------------------------------------------------------------------------\u001b[0m",
            "\u001b[0;31mValueError\u001b[0m                                Traceback (most recent call last)",
            "\u001b[0;32m<ipython-input-191-2cc4dd13dd90>\u001b[0m in \u001b[0;36m<module>\u001b[0;34m()\u001b[0m\n\u001b[0;32m----> 1\u001b[0;31m \u001b[0mlightGBM_recall\u001b[0m\u001b[0;34m=\u001b[0m\u001b[0mrecall_score\u001b[0m\u001b[0;34m(\u001b[0m\u001b[0mY_test\u001b[0m\u001b[0;34m,\u001b[0m\u001b[0mfinal_y_pred\u001b[0m\u001b[0;34m)\u001b[0m\u001b[0;34m\u001b[0m\u001b[0;34m\u001b[0m\u001b[0m\n\u001b[0m\u001b[1;32m      2\u001b[0m \u001b[0mlightGBM_recall\u001b[0m\u001b[0;34m\u001b[0m\u001b[0;34m\u001b[0m\u001b[0m\n",
            "\u001b[0;32m/usr/local/lib/python3.6/dist-packages/sklearn/metrics/classification.py\u001b[0m in \u001b[0;36mrecall_score\u001b[0;34m(y_true, y_pred, labels, pos_label, average, sample_weight)\u001b[0m\n\u001b[1;32m   1673\u001b[0m                                                  \u001b[0maverage\u001b[0m\u001b[0;34m=\u001b[0m\u001b[0maverage\u001b[0m\u001b[0;34m,\u001b[0m\u001b[0;34m\u001b[0m\u001b[0;34m\u001b[0m\u001b[0m\n\u001b[1;32m   1674\u001b[0m                                                  \u001b[0mwarn_for\u001b[0m\u001b[0;34m=\u001b[0m\u001b[0;34m(\u001b[0m\u001b[0;34m'recall'\u001b[0m\u001b[0;34m,\u001b[0m\u001b[0;34m)\u001b[0m\u001b[0;34m,\u001b[0m\u001b[0;34m\u001b[0m\u001b[0;34m\u001b[0m\u001b[0m\n\u001b[0;32m-> 1675\u001b[0;31m                                                  sample_weight=sample_weight)\n\u001b[0m\u001b[1;32m   1676\u001b[0m     \u001b[0;32mreturn\u001b[0m \u001b[0mr\u001b[0m\u001b[0;34m\u001b[0m\u001b[0;34m\u001b[0m\u001b[0m\n\u001b[1;32m   1677\u001b[0m \u001b[0;34m\u001b[0m\u001b[0m\n",
            "\u001b[0;32m/usr/local/lib/python3.6/dist-packages/sklearn/metrics/classification.py\u001b[0m in \u001b[0;36mprecision_recall_fscore_support\u001b[0;34m(y_true, y_pred, beta, labels, pos_label, average, warn_for, sample_weight)\u001b[0m\n\u001b[1;32m   1413\u001b[0m         \u001b[0;32mraise\u001b[0m \u001b[0mValueError\u001b[0m\u001b[0;34m(\u001b[0m\u001b[0;34m\"beta should be >0 in the F-beta score\"\u001b[0m\u001b[0;34m)\u001b[0m\u001b[0;34m\u001b[0m\u001b[0;34m\u001b[0m\u001b[0m\n\u001b[1;32m   1414\u001b[0m     labels = _check_set_wise_labels(y_true, y_pred, average, labels,\n\u001b[0;32m-> 1415\u001b[0;31m                                     pos_label)\n\u001b[0m\u001b[1;32m   1416\u001b[0m \u001b[0;34m\u001b[0m\u001b[0m\n\u001b[1;32m   1417\u001b[0m     \u001b[0;31m# Calculate tp_sum, pred_sum, true_sum ###\u001b[0m\u001b[0;34m\u001b[0m\u001b[0;34m\u001b[0m\u001b[0;34m\u001b[0m\u001b[0m\n",
            "\u001b[0;32m/usr/local/lib/python3.6/dist-packages/sklearn/metrics/classification.py\u001b[0m in \u001b[0;36m_check_set_wise_labels\u001b[0;34m(y_true, y_pred, average, labels, pos_label)\u001b[0m\n\u001b[1;32m   1237\u001b[0m                          str(average_options))\n\u001b[1;32m   1238\u001b[0m \u001b[0;34m\u001b[0m\u001b[0m\n\u001b[0;32m-> 1239\u001b[0;31m     \u001b[0my_type\u001b[0m\u001b[0;34m,\u001b[0m \u001b[0my_true\u001b[0m\u001b[0;34m,\u001b[0m \u001b[0my_pred\u001b[0m \u001b[0;34m=\u001b[0m \u001b[0m_check_targets\u001b[0m\u001b[0;34m(\u001b[0m\u001b[0my_true\u001b[0m\u001b[0;34m,\u001b[0m \u001b[0my_pred\u001b[0m\u001b[0;34m)\u001b[0m\u001b[0;34m\u001b[0m\u001b[0;34m\u001b[0m\u001b[0m\n\u001b[0m\u001b[1;32m   1240\u001b[0m     \u001b[0mpresent_labels\u001b[0m \u001b[0;34m=\u001b[0m \u001b[0munique_labels\u001b[0m\u001b[0;34m(\u001b[0m\u001b[0my_true\u001b[0m\u001b[0;34m,\u001b[0m \u001b[0my_pred\u001b[0m\u001b[0;34m)\u001b[0m\u001b[0;34m\u001b[0m\u001b[0;34m\u001b[0m\u001b[0m\n\u001b[1;32m   1241\u001b[0m     \u001b[0;32mif\u001b[0m \u001b[0maverage\u001b[0m \u001b[0;34m==\u001b[0m \u001b[0;34m'binary'\u001b[0m\u001b[0;34m:\u001b[0m\u001b[0;34m\u001b[0m\u001b[0;34m\u001b[0m\u001b[0m\n",
            "\u001b[0;32m/usr/local/lib/python3.6/dist-packages/sklearn/metrics/classification.py\u001b[0m in \u001b[0;36m_check_targets\u001b[0;34m(y_true, y_pred)\u001b[0m\n\u001b[1;32m     79\u001b[0m     \u001b[0;32mif\u001b[0m \u001b[0mlen\u001b[0m\u001b[0;34m(\u001b[0m\u001b[0my_type\u001b[0m\u001b[0;34m)\u001b[0m \u001b[0;34m>\u001b[0m \u001b[0;36m1\u001b[0m\u001b[0;34m:\u001b[0m\u001b[0;34m\u001b[0m\u001b[0;34m\u001b[0m\u001b[0m\n\u001b[1;32m     80\u001b[0m         raise ValueError(\"Classification metrics can't handle a mix of {0} \"\n\u001b[0;32m---> 81\u001b[0;31m                          \"and {1} targets\".format(type_true, type_pred))\n\u001b[0m\u001b[1;32m     82\u001b[0m \u001b[0;34m\u001b[0m\u001b[0m\n\u001b[1;32m     83\u001b[0m     \u001b[0;31m# We can't have more than one value on y_type => The set is no more needed\u001b[0m\u001b[0;34m\u001b[0m\u001b[0;34m\u001b[0m\u001b[0;34m\u001b[0m\u001b[0m\n",
            "\u001b[0;31mValueError\u001b[0m: Classification metrics can't handle a mix of binary and continuous targets"
          ]
        }
      ]
    },
    {
      "cell_type": "markdown",
      "metadata": {
        "id": "uUKi8KT1k2Hw",
        "colab_type": "text"
      },
      "source": [
        "#### We can conclude that the performance of Random forest is better than LightGBM in terms of all the classification performance metrics"
      ]
    },
    {
      "cell_type": "markdown",
      "metadata": {
        "id": "seP2Gt9Ik2Hw",
        "colab_type": "text"
      },
      "source": [
        "## Let's find ROC-AUC score and curve of Random forest model"
      ]
    },
    {
      "cell_type": "code",
      "metadata": {
        "id": "P_daNypfk2Hx",
        "colab_type": "code",
        "colab": {}
      },
      "source": [
        "predict_probabilities = rf_model.predict_proba(X_test)[:,1]"
      ],
      "execution_count": 0,
      "outputs": []
    },
    {
      "cell_type": "code",
      "metadata": {
        "id": "Z_ikLbUyk2Hx",
        "colab_type": "code",
        "colab": {}
      },
      "source": [
        "ROCAUC=roc_auc_score(Y_test,rf_test_pred)\n",
        "ROCAUC"
      ],
      "execution_count": 0,
      "outputs": []
    },
    {
      "cell_type": "code",
      "metadata": {
        "id": "xJO7s8U1k2Hy",
        "colab_type": "code",
        "colab": {}
      },
      "source": [
        "fpr, tpr, thresholds = roc_curve(Y_test, predict_probabilities)\n",
        "plt.plot(fpr, tpr)\n",
        "plt.xlim([0.0, 1.0])\n",
        "plt.ylim([0.0, 1.0])\n",
        "plt.title('ROC curve for Term Deposit data')\n",
        "plt.xlabel('False Positive Rate (1 - Specificity)')\n",
        "plt.ylabel('True Positive Rate (Sensitivity)')\n",
        "plt.grid(True)\n",
        "plt.show()"
      ],
      "execution_count": 0,
      "outputs": []
    },
    {
      "cell_type": "markdown",
      "metadata": {
        "id": "9le0cp7Ck2Hz",
        "colab_type": "text"
      },
      "source": [
        "#### Scaling is required because attributes values given are in different scales\n",
        "We have used Standard Scaler, It converts the entire data mean 0 and Standard Deviation 1 and you can scale the input data and train a model on your own"
      ]
    }
  ]
}